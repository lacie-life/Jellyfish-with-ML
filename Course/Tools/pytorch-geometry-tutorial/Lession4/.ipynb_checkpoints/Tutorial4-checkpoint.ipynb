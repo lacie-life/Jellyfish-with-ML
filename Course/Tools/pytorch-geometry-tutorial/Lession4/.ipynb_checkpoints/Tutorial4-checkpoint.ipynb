{
 "cells": [
  {
   "cell_type": "markdown",
   "metadata": {},
   "source": [
    "# Tutorial4: Convolutional Layers - Spectral methods"
   ]
  },
  {
   "cell_type": "markdown",
   "metadata": {},
   "source": [
    "## Outline"
   ]
  },
  {
   "cell_type": "markdown",
   "metadata": {},
   "source": [
    "- Why convolution in ML\n",
    "- Some theory on convolution\n",
    "- Convolution on graphs\n",
    "- Spectral-convolutional layers in PyTorch Geometric"
   ]
  },
  {
   "cell_type": "markdown",
   "metadata": {},
   "source": [
    "## Imports"
   ]
  },
  {
   "cell_type": "code",
   "execution_count": 1,
   "metadata": {},
   "outputs": [],
   "source": [
    "import numpy as np\n",
    "import matplotlib.pyplot as plt\n",
    "plt.rcParams.update({'font.size': 16})"
   ]
  },
  {
   "cell_type": "markdown",
   "metadata": {},
   "source": [
    "## Why convolution in ML"
   ]
  },
  {
   "cell_type": "markdown",
   "metadata": {},
   "source": [
    "- Weight sharing\n",
    "- Detection of translational invariant and local features"
   ]
  },
  {
   "cell_type": "markdown",
   "metadata": {},
   "source": [
    "![](fig/fully_connected.png)\n",
    "[Source](https://missinglink.ai/guides/convolutional-neural-networks/fully-connected-layers-convolutional-neural-networks-complete-guide/)"
   ]
  },
  {
   "cell_type": "markdown",
   "metadata": {},
   "source": [
    "![](fig/cnn.gif)\n",
    "[Source](https://commons.wikimedia.org/wiki/File:Convolutional_Neural_Network.gif)"
   ]
  },
  {
   "cell_type": "markdown",
   "metadata": {},
   "source": [
    "![](fig/Convolution.png)\n",
    "[Source](https://commons.wikimedia.org/wiki/File:Convolution.PNG)"
   ]
  },
  {
   "cell_type": "markdown",
   "metadata": {},
   "source": [
    "## Some theory on convolution"
   ]
  },
  {
   "cell_type": "markdown",
   "metadata": {},
   "source": [
    "![](fig/Convolution_of_box_signal_with_itself2.gif)\n",
    "[Source](https://en.wikipedia.org/wiki/File:Convolution_of_box_signal_with_itself2.gif)"
   ]
  },
  {
   "cell_type": "markdown",
   "metadata": {},
   "source": [
    "### Definition"
   ]
  },
  {
   "cell_type": "markdown",
   "metadata": {},
   "source": [
    "\\begin{align*}\n",
    "c[n] = (v * w)[n] = \\sum_{m=0}^{N-1} v[m] \\cdot w[n-m]\n",
    "\\end{align*}"
   ]
  },
  {
   "cell_type": "code",
   "execution_count": 2,
   "metadata": {},
   "outputs": [],
   "source": [
    "def conv(v, w):\n",
    "    c = np.zeros(v.shape)\n",
    "    for n in range(len(v)):\n",
    "        c[n] = 0\n",
    "        for m in range(len(v)):\n",
    "            c[n] += v[m] * w[n - m]  \n",
    "    return c"
   ]
  },
  {
   "cell_type": "code",
   "execution_count": 3,
   "metadata": {},
   "outputs": [
    {
     "data": {
      "image/png": "[encoded data removed]",
      "text/plain": [
       "<Figure size 432x288 with 1 Axes>"
      ]
     },
     "metadata": {
      "needs_background": "light"
     },
     "output_type": "display_data"
    }
   ],
   "source": [
    "N = 20\n",
    "v = np.zeros(N)\n",
    "v[8:12] = 1\n",
    "w = np.zeros(N)\n",
    "w[1:5] = 1\n",
    "c = conv(v, w)\n",
    "\n",
    "fig = plt.figure()\n",
    "ax = fig.gca()\n",
    "ax.plot(v, '.-')\n",
    "ax.plot(w, '.-')\n",
    "ax.plot(c, '.-')\n",
    "ax.legend(['v', 'w', 'c'])\n",
    "ax.grid(True)"
   ]
  },
  {
   "cell_type": "markdown",
   "metadata": {},
   "source": [
    "### Fourier transform"
   ]
  },
  {
   "cell_type": "markdown",
   "metadata": {},
   "source": [
    "Transformation $\\mathcal F: \\mathbb{R}^N \\to \\mathbb{R}^N$ with\n",
    "\n",
    "\\begin{align*}\n",
    "\\mathcal F^{-1}(\\mathcal F (v)) &= v\\\\\n",
    "\\mathcal F(v * w) &= \\mathcal F(v) \\cdot \\mathcal F(w).\n",
    "\\end{align*}"
   ]
  },
  {
   "cell_type": "markdown",
   "metadata": {},
   "source": [
    "This implies\n",
    "\\begin{align*}\n",
    "v * w &= \\mathcal F^{-1}(\\mathcal F (v * w))\\\\\n",
    "&= \\mathcal F^{-1}(\\mathcal F(v) \\cdot \\mathcal F(w))\n",
    "\\end{align*}"
   ]
  },
  {
   "cell_type": "code",
   "execution_count": 4,
   "metadata": {},
   "outputs": [
    {
     "data": {
      "text/plain": [
       "array([4.09862852, 4.68214615, 4.70242855, 4.15529448, 3.82105494,\n",
       "       4.52767695, 4.31882443, 4.57647736, 4.95389019, 4.91595713,\n",
       "       4.35010702, 3.81069648, 4.29596588, 5.10180936, 4.27236417,\n",
       "       4.74873021, 4.94188403, 4.08582287, 5.03542755, 4.42217054])"
      ]
     },
     "execution_count": 4,
     "metadata": {},
     "output_type": "execute_result"
    }
   ],
   "source": [
    "v, w = np.random.rand(N), np.random.rand(N)\n",
    "conv(v, w)"
   ]
  },
  {
   "cell_type": "code",
   "execution_count": 5,
   "metadata": {},
   "outputs": [
    {
     "data": {
      "text/plain": [
       "array([4.09862852, 4.68214615, 4.70242855, 4.15529448, 3.82105494,\n",
       "       4.52767695, 4.31882443, 4.57647736, 4.95389019, 4.91595713,\n",
       "       4.35010702, 3.81069648, 4.29596588, 5.10180936, 4.27236417,\n",
       "       4.74873021, 4.94188403, 4.08582287, 5.03542755, 4.42217054])"
      ]
     },
     "execution_count": 5,
     "metadata": {},
     "output_type": "execute_result"
    }
   ],
   "source": [
    "from scipy.fft import fft, ifft # Fast Fourier Transform / Inverse FFT\n",
    "np.abs(ifft(fft(v) * fft(w)))"
   ]
  },
  {
   "cell_type": "markdown",
   "metadata": {},
   "source": [
    "### Definition of the Fourier transform"
   ]
  },
  {
   "cell_type": "markdown",
   "metadata": {},
   "source": [
    "The Fourier transform can be computed as\n",
    "\n",
    "\\begin{align*}\n",
    "\\mathcal F(v) = U\\cdot v, \\;\\;\\mathcal F^{-1}(v) = \\frac{1}{N}\\ U^H \\cdot v\n",
    "\\end{align*}\n",
    "\n",
    "where the $N\\times N$ matrix $U$ is defined as\n",
    "\\begin{align*}\n",
    "\\\\\n",
    "U = \n",
    "\\begin{bmatrix}\n",
    "u_0(0) & u_1(0) & \\dots & u_{N-1}(0)\\\\\n",
    "u_0(1) & u_1(1) & \\dots & u_{N-1}(1)\\\\\n",
    "\\vdots & \\vdots& & \\vdots\\\\\n",
    "u_0(N-1) & u_1(N-1) & \\dots & u_{N-1}(N-1)\\\\\n",
    "\\end{bmatrix} \n",
    "\\end{align*}\n",
    "\n",
    "and $u_0, \\dots, u_{N-1}$ are functions defined as\n",
    "\n",
    "\\begin{align*}\n",
    "u_n(x)&:= \\cos\\left(2 \\pi \\frac{n}{N} x\\right) - i \\sin\\left(2 \\pi \\frac{n}{N} x\\right).\n",
    "\\end{align*}"
   ]
  },
  {
   "cell_type": "code",
   "execution_count": 6,
   "metadata": {},
   "outputs": [],
   "source": [
    "def matrix_U(N):\n",
    "    u = lambda n, N: np.cos(2 * np.pi / N * n * np.arange(N)) - 1j * np.sin(2 * np.pi / N * n * np.arange(N))\n",
    "    U = np.empty((N, 0))\n",
    "    for n in range(N):\n",
    "        U = np.c_[U, u(n, N)]\n",
    "    return U\n",
    "\n",
    "\n",
    "def fourier_transform(v):\n",
    "    N = v.shape[0]\n",
    "    U = matrix_U(N)\n",
    "    return U @ v\n",
    "\n",
    "\n",
    "def inverse_fourier_transform(v):\n",
    "    N = v.shape[0]\n",
    "    U = matrix_U(N)\n",
    "    return (U.conj().transpose() @ v) / N"
   ]
  },
  {
   "cell_type": "code",
   "execution_count": 7,
   "metadata": {},
   "outputs": [
    {
     "data": {
      "text/plain": [
       "array([ 1.77635684e-15-0.00000000e+00j,  8.88178420e-16-2.22044605e-16j,\n",
       "        0.00000000e+00-4.44089210e-16j,  2.22044605e-16+1.11022302e-15j,\n",
       "        2.22044605e-16+7.77156117e-16j,  2.24993635e-15+1.11022302e-15j,\n",
       "       -1.33226763e-15-3.08086889e-15j, -1.99840144e-15+2.44249065e-15j,\n",
       "       -2.22044605e-15+8.88178420e-16j, -3.05311332e-15+1.27675648e-15j,\n",
       "        4.44089210e-16-6.32292965e-15j, -5.27355937e-16-8.88178420e-16j,\n",
       "       -8.88178420e-16-8.88178420e-16j, -3.77475828e-15-3.88578059e-15j,\n",
       "        4.44089210e-16-3.83026943e-15j,  7.57380270e-15+3.77475828e-15j,\n",
       "        2.22044605e-16+3.05311332e-15j, -4.44089210e-16-7.38298311e-15j,\n",
       "       -6.66133815e-16+7.99360578e-15j, -8.65973959e-15+8.88178420e-16j])"
      ]
     },
     "execution_count": 7,
     "metadata": {},
     "output_type": "execute_result"
    }
   ],
   "source": [
    "fft(v) - fourier_transform(v)"
   ]
  },
  {
   "cell_type": "code",
   "execution_count": 8,
   "metadata": {},
   "outputs": [
    {
     "data": {
      "text/plain": [
       "array([ 1.11022302e-16-0.00000000e+00j,  4.16333634e-17+6.93889390e-18j,\n",
       "        0.00000000e+00+2.08166817e-17j,  1.38777878e-17-5.55111512e-17j,\n",
       "        1.38777878e-17-3.98986399e-17j,  1.12431765e-16-5.55111512e-17j,\n",
       "       -6.93889390e-17+1.54390389e-16j, -9.71445147e-17-1.24900090e-16j,\n",
       "       -1.11022302e-16-4.16333634e-17j, -1.52655666e-16-6.24500451e-17j,\n",
       "        2.77555756e-17+3.16146482e-16j, -2.68882139e-17+4.51028104e-17j,\n",
       "       -4.16333634e-17+4.16333634e-17j, -1.94289029e-16+1.94289029e-16j,\n",
       "        2.77555756e-17+1.91686944e-16j,  3.78603399e-16-1.87350135e-16j,\n",
       "        1.38777878e-17-1.52655666e-16j, -2.08166817e-17+3.67761377e-16j,\n",
       "       -3.46944695e-17-3.98986399e-16j, -4.37150316e-16-4.16333634e-17j])"
      ]
     },
     "execution_count": 8,
     "metadata": {},
     "output_type": "execute_result"
    }
   ],
   "source": [
    "ifft(v) - inverse_fourier_transform(v)"
   ]
  },
  {
   "cell_type": "markdown",
   "metadata": {},
   "source": [
    "### Connection with the Laplacian"
   ]
  },
  {
   "cell_type": "markdown",
   "metadata": {},
   "source": [
    "The functions $u_n$ (the columns of the Fourier transform matrix) are eigenvectors of the Laplacian:\n",
    "\n",
    "\\begin{align*}\n",
    "u_n(x)&:= \\cos\\left(2 \\pi \\frac{n}{N} x\\right) - i \\sin\\left(2 \\pi \\frac{n}{N} x\\right)\\\\\n",
    "\\Delta u_n(x)&:= \\left(-4 \\pi\\frac{n^2}{N^2}\\right) u_n(x)\n",
    "\\end{align*}"
   ]
  },
  {
   "cell_type": "markdown",
   "metadata": {},
   "source": [
    "### Summary"
   ]
  },
  {
   "cell_type": "markdown",
   "metadata": {},
   "source": [
    "\\begin{align*}\n",
    "v * w \n",
    "= U^H ((U  w) \\odot (U  v))\n",
    "\\end{align*}\n",
    "\n",
    "or if $g_w=\\mbox{diag}(U w)$ is  filter\n",
    "\\begin{align*}\n",
    "v * w \n",
    "= U^H g_w U  w\n",
    "\\end{align*}"
   ]
  },
  {
   "cell_type": "code",
   "execution_count": 11,
   "metadata": {},
   "outputs": [
    {
     "data": {
      "text/plain": [
       "array([4.09862852, 4.68214615, 4.70242855, 4.15529448, 3.82105494,\n",
       "       4.52767695, 4.31882443, 4.57647736, 4.95389019, 4.91595713,\n",
       "       4.35010702, 3.81069648, 4.29596588, 5.10180936, 4.27236417,\n",
       "       4.74873021, 4.94188403, 4.08582287, 5.03542755, 4.42217054])"
      ]
     },
     "execution_count": 11,
     "metadata": {},
     "output_type": "execute_result"
    }
   ],
   "source": [
    "U = matrix_U(N)\n",
    "np.abs((U.conj().transpose() / N) @ ((U @ v) * (U @ w)))"
   ]
  },
  {
   "cell_type": "code",
   "execution_count": 12,
   "metadata": {},
   "outputs": [
    {
     "data": {
      "text/plain": [
       "array([4.09862852, 4.68214615, 4.70242855, 4.15529448, 3.82105494,\n",
       "       4.52767695, 4.31882443, 4.57647736, 4.95389019, 4.91595713,\n",
       "       4.35010702, 3.81069648, 4.29596588, 5.10180936, 4.27236417,\n",
       "       4.74873021, 4.94188403, 4.08582287, 5.03542755, 4.42217054])"
      ]
     },
     "execution_count": 12,
     "metadata": {},
     "output_type": "execute_result"
    }
   ],
   "source": [
    "conv(v, w)"
   ]
  },
  {
   "cell_type": "markdown",
   "metadata": {},
   "source": [
    "## Convolution on graphs"
   ]
  },
  {
   "cell_type": "markdown",
   "metadata": {},
   "source": [
    "**Plan**:\n",
    "    - Define the graph Laplacian\n",
    "    - Compute the spectrum\n",
    "    - Define a Fourier transform\n",
    "    - Define convolution on a graph"
   ]
  },
  {
   "cell_type": "markdown",
   "metadata": {},
   "source": [
    "**Note:** From now on $G = (V, E)$ is an undirected, unweighted, simple graph."
   ]
  },
  {
   "cell_type": "markdown",
   "metadata": {},
   "source": [
    "### Graph Laplacian"
   ]
  },
  {
   "cell_type": "markdown",
   "metadata": {},
   "source": [
    "Adjacency matrix\n",
    "\\begin{align*}\n",
    "A_{ij} = \\left\\{\n",
    "    \\begin{array}{ll}\n",
    "    1 &\\text{ if } e_{ij}\\in E\\\\\n",
    "    0 &\\text{ if } e_{ij}\\notin E\n",
    "    \\end{array}\n",
    "    \\right.\n",
    "\\end{align*}\n",
    "\n",
    "Degree matrix\n",
    "\\begin{align*}\n",
    "D_{ij} = \\left\\{\n",
    "    \\begin{array}{ll}\n",
    "    \\mbox{deg}(v_i) &\\text{ if } i=j\\\\\n",
    "    0 &\\text{ if } i\\neq j\n",
    "    \\end{array}\n",
    "    \\right.\n",
    "\\end{align*}\n",
    "\n",
    "Laplacian\n",
    "\\begin{align*}\n",
    "L &= D - A.\n",
    "\\end{align*}\n",
    "\n",
    "Normalized Laplacian\n",
    "\\begin{align*}\n",
    "L &= I - D^{-1/2} A D^{-1/2}.\n",
    "\\end{align*}"
   ]
  },
  {
   "cell_type": "markdown",
   "metadata": {},
   "source": [
    "### Graph spectrum, Fourier transform, and convolution"
   ]
  },
  {
   "cell_type": "markdown",
   "metadata": {},
   "source": [
    "1. Spectral decomposition of the Laplacian:\n",
    "\\begin{align*}\n",
    "L = U \\Lambda U^T\\\\\n",
    "\\end{align*}\n",
    "\n",
    "\n",
    "2. Fourier transform: if $v$ is a vector of features on the graph, then\n",
    "\\begin{align*}\n",
    "\\mathcal F (v) = U \\cdot v, \\;\\;\\mathcal F^{-1} (v) = U^T \\cdot v\\\\\n",
    "\\end{align*}\n",
    "\n",
    "\n",
    "3. Convolution with a filter $U \\cdot w$\n",
    "\\begin{align*}\n",
    "v * w = U ((U^T  w) \\odot (U^T  v) )\n",
    "\\end{align*}\n",
    "\n",
    "\n",
    "Or $g_w = \\mbox{diag}(U^T w)$ is a filter, then\n",
    "\\begin{align*}\n",
    "v * w = U g_w U^T  v\n",
    "\\end{align*}\n"
   ]
  },
  {
   "cell_type": "markdown",
   "metadata": {},
   "source": [
    "## Spectral-convolutional layers in PyTorch Geometric"
   ]
  },
  {
   "cell_type": "markdown",
   "metadata": {},
   "source": [
    "**Problem:** Computing the spectrum is a global and very expensive property.\n",
    "\n",
    "**Goal:** Implementation as message passing."
   ]
  },
  {
   "cell_type": "markdown",
   "metadata": {},
   "source": [
    "### ChebConv"
   ]
  },
  {
   "cell_type": "markdown",
   "metadata": {},
   "source": [
    "- Original [paper](https://arxiv.org/pdf/1606.09375.pdf)\n",
    "- PyTorch [doc](https://pytorch-geometric.readthedocs.io/en/latest/modules/nn.html#torch_geometric.nn.conv.ChebConv)"
   ]
  },
  {
   "cell_type": "markdown",
   "metadata": {},
   "source": [
    "#### Goal: \n",
    "Compute $U g_w U^T x$ with $g_w = g_w(\\Lambda)$ a filter."
   ]
  },
  {
   "cell_type": "markdown",
   "metadata": {},
   "source": [
    "#### Chebyshev approximation\n",
    "\n",
    "Chebyshev polynomials $T_k$:\n",
    "\\begin{align*}\n",
    "T_{k}(x) = 2 x T_{k-1}(x) - T_{k-2}(x), \\;\\; T_0(x) = 1, T_1(x) = x\n",
    "\\end{align*}\n",
    "\n",
    "#### Chebyshev approximation of the filter\n",
    "Aproximation of the filter:\n",
    "\\begin{align*}\n",
    "g_w(\\Lambda) = \\sum_{k=0}^K \\theta_k T_k(\\tilde \\Lambda),\\;\\;\\;\\;\\tilde \\Lambda = \\frac{2}{\\lambda_\\max} \\Lambda - I \\cdot \\lambda_\\max\n",
    "\\end{align*}\n",
    "\n",
    "\n",
    "#### Property\n",
    "If $L = U \\Lambda U^T$ then $T_k(L) = U T_k(\\Lambda) U^T$.\n"
   ]
  },
  {
   "cell_type": "markdown",
   "metadata": {},
   "source": [
    "#### Fast approximated convolution \n",
    "\\begin{align*}\n",
    "v * w &= U g_w U^T x\n",
    "= U \\left(\\sum_{k=0}^K \\theta_k T_k(\\tilde \\Lambda) \\right)U^T x\n",
    "=\\sum_{k=0}^K  \\theta_k U  T_k(\\tilde \\Lambda) U^T x\\\\ \n",
    "&=\\sum_{k=0}^K  \\theta_k T_k(\\tilde L) x \n",
    "\\end{align*}\n",
    "\n",
    "\\begin{align*}\n",
    "\\tilde L = \\frac{2}{\\lambda_\\max} L - I\n",
    "\\end{align*}"
   ]
  },
  {
   "cell_type": "markdown",
   "metadata": {},
   "source": [
    "#### Properties:\n",
    "- Depends on $L$ and $\\lambda_\\max$, not on $U, \\Sigma$\n",
    "- Uses only $K$-powers $\\Rightarrow$ only the $K$-th neighborhood of each node, localized filter"
   ]
  },
  {
   "cell_type": "markdown",
   "metadata": {},
   "source": [
    "**As message passing:**\n",
    "![](fig/cheb_init.png)\n",
    "\n",
    "![](fig/cheb_norm.png)\n",
    "\n",
    "![](fig/cheb_forward.png)\n",
    "\n",
    "![](fig/cheb_message.png)"
   ]
  },
  {
   "cell_type": "markdown",
   "metadata": {},
   "source": [
    "### GCNConv"
   ]
  },
  {
   "cell_type": "markdown",
   "metadata": {},
   "source": [
    "- Original [paper](https://arxiv.org/pdf/1609.02907.pdf)\n",
    "- PyTorch [doc](https://pytorch-geometric.readthedocs.io/en/latest/modules/nn.html#torch_geometric.nn.conv.GCNConv)"
   ]
  },
  {
   "cell_type": "markdown",
   "metadata": {},
   "source": [
    "Start from `ChebConv` and assume \n",
    "1. $K=1$ (linear approximation) so\n",
    "\\begin{align*}\n",
    "v * w \n",
    "&=\\sum_{k=0}^1  \\theta_k T_k(\\tilde L) x\n",
    "= \\theta_0 x + \\theta_1 \\tilde L x\\\\\n",
    "\\end{align*}\n",
    "\n",
    "2. $\\lambda_\\max =2$ so\n",
    "\\begin{align*}\n",
    "v * w \n",
    "&= \\theta_0 x + \\theta_1 (L - I) x\\\\\n",
    "&= \\theta_0 x - \\theta_1 D^{-1/2} A D^{1/2} x\\\\\n",
    "\\end{align*}\n",
    "\n",
    "\n",
    "3. $\\theta_0=-\\theta_1= \\theta$ so \n",
    "\\begin{align*}\n",
    "v * w = \\left(I + D^{-1/2} A D^{1/2}\\right) x \\theta\n",
    "\\end{align*}\n",
    "\n",
    "4. Renormalization of $\\theta$ by using \n",
    "\\begin{align*}\n",
    "\\tilde A&:= I + A\\\\\n",
    "\\tilde D_{ii}&:= \\sum_j \\tilde A_{ij}\n",
    "\\end{align*}\n",
    "so \n",
    "\\begin{align*}\n",
    "v * w = \\left(D^{-1/2} A D^{1/2}\\right) x \\theta\n",
    "\\end{align*}\n",
    "\n",
    "If $x$ is a $F$-dimensional feature vector, and we want an $F'$-dimensional feature vector as output:\n",
    "use $W'\\in \\mathbb{R}^{F\\times F'}$\n",
    "\\begin{align*}\n",
    "v * w = \\left(D^{-1/2} A D^{1/2}\\right) x \\Theta\n",
    "\\end{align*}\n"
   ]
  },
  {
   "cell_type": "markdown",
   "metadata": {},
   "source": [
    "Nodewise:\n",
    "    ![image.png](fig/gcn_nodewise.png)"
   ]
  },
  {
   "cell_type": "markdown",
   "metadata": {},
   "source": [
    "#### As message passing\n",
    "See Tutorial3"
   ]
  }
 ],
 "metadata": {
  "kernelspec": {
   "display_name": "Python 3",
   "language": "python",
   "name": "python3"
  },
  "language_info": {
   "codemirror_mode": {
    "name": "ipython",
    "version": 3
   },
   "file_extension": ".py",
   "mimetype": "text/x-python",
   "name": "python",
   "nbconvert_exporter": "python",
   "pygments_lexer": "ipython3",
   "version": "3.6.9"
  }
 },
 "nbformat": 4,
 "nbformat_minor": 4
}
