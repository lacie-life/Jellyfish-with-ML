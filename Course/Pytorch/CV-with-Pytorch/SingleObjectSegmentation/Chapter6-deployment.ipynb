{
 "cells": [
  {
   "cell_type": "markdown",
   "metadata": {},
   "source": [
    "## Data Exploration"
   ]
  },
  {
   "cell_type": "code",
   "execution_count": 1,
   "metadata": {},
   "outputs": [
    {
     "name": "stdout",
     "output_type": "stream",
     "text": [
      "number of images: 336\n"
     ]
    }
   ],
   "source": [
    "import os\n",
    "path2test = \"./data/test_set/\"\n",
    "imgsList = [pp for pp in os.listdir(path2test) if \"Annotation\" not in pp]\n",
    "print(\"number of images:\", len(imgsList))\n"
   ]
  },
  {
   "cell_type": "code",
   "execution_count": 2,
   "metadata": {},
   "outputs": [
    {
     "data": {
      "text/plain": [
       "array(['154_HC.png', '245_HC.png', '299_HC.png', '232_HC.png'],\n",
       "      dtype='<U11')"
      ]
     },
     "execution_count": 2,
     "metadata": {},
     "output_type": "execute_result"
    }
   ],
   "source": [
    "import numpy as np\n",
    "np.random.seed(2019)\n",
    "rndImgs = np.random.choice(imgsList,4)\n",
    "rndImgs"
   ]
  },
  {
   "cell_type": "markdown",
   "metadata": {},
   "source": [
    "## Creating the Model"
   ]
  },
  {
   "cell_type": "code",
   "execution_count": 3,
   "metadata": {},
   "outputs": [],
   "source": [
    "import torch.nn as nn\n",
    "import torch.nn.functional as F"
   ]
  },
  {
   "cell_type": "code",
   "execution_count": 4,
   "metadata": {},
   "outputs": [],
   "source": [
    "\n",
    "class SegNet(nn.Module):\n",
    "    def __init__(self, params):\n",
    "        super(SegNet, self).__init__()\n",
    "        \n",
    "        C_in, H_in, W_in = params[\"input_shape\"]\n",
    "        init_f = params[\"initial_filters\"] \n",
    "        num_outputs = params[\"num_outputs\"] \n",
    "\n",
    "        self.conv1 = nn.Conv2d(C_in, init_f, kernel_size=3,stride=1,padding=1)\n",
    "        self.conv2 = nn.Conv2d(init_f, 2*init_f, kernel_size=3,stride=1,padding=1)\n",
    "        self.conv3 = nn.Conv2d(2*init_f, 4*init_f, kernel_size=3,padding=1)\n",
    "        self.conv4 = nn.Conv2d(4*init_f, 8*init_f, kernel_size=3,padding=1)\n",
    "        self.conv5 = nn.Conv2d(8*init_f, 16*init_f, kernel_size=3,padding=1)\n",
    "\n",
    "        self.upsample = nn.Upsample(scale_factor=2, mode='bilinear', align_corners=True)\n",
    "\n",
    "        self.conv_up1 = nn.Conv2d(16*init_f, 8*init_f, kernel_size=3,padding=1)\n",
    "        self.conv_up2 = nn.Conv2d(8*init_f, 4*init_f, kernel_size=3,padding=1)\n",
    "        self.conv_up3 = nn.Conv2d(4*init_f, 2*init_f, kernel_size=3,padding=1)\n",
    "        self.conv_up4 = nn.Conv2d(2*init_f, init_f, kernel_size=3,padding=1)\n",
    "\n",
    "        self.conv_out = nn.Conv2d(init_f, num_outputs , kernel_size=3,padding=1)    \n",
    "    \n",
    "    def forward(self, x):\n",
    "        \n",
    "        x = F.relu(self.conv1(x))\n",
    "        x = F.max_pool2d(x, 2, 2)\n",
    "\n",
    "        x = F.relu(self.conv2(x))\n",
    "        x = F.max_pool2d(x, 2, 2)\n",
    "\n",
    "        x = F.relu(self.conv3(x))\n",
    "        x = F.max_pool2d(x, 2, 2)\n",
    "\n",
    "        x = F.relu(self.conv4(x))\n",
    "        x = F.max_pool2d(x, 2, 2)\n",
    "\n",
    "        x = F.relu(self.conv5(x))\n",
    "\n",
    "        x = self.upsample(x)\n",
    "        x = F.relu(self.conv_up1(x))\n",
    "\n",
    "        x = self.upsample(x)\n",
    "        x = F.relu(self.conv_up2(x))\n",
    "        \n",
    "        x = self.upsample(x)\n",
    "        x = F.relu(self.conv_up3(x))\n",
    "        \n",
    "        x = self.upsample(x)\n",
    "        x = F.relu(self.conv_up4(x))\n",
    "\n",
    "        x = self.conv_out(x)\n",
    "        \n",
    "        return x "
   ]
  },
  {
   "cell_type": "code",
   "execution_count": 5,
   "metadata": {},
   "outputs": [],
   "source": [
    "h,w = 128,192\n",
    "params_model = {\n",
    "        \"input_shape\": (1,h,w),\n",
    "        \"initial_filters\": 16, \n",
    "        \"num_outputs\": 1,\n",
    "            }\n",
    "\n",
    "model = SegNet(params_model)"
   ]
  },
  {
   "cell_type": "code",
   "execution_count": 7,
   "metadata": {},
   "outputs": [],
   "source": [
    "import torch\n",
    "device = torch.device('cuda:0' if torch.cuda.is_available() else 'cpu')\n",
    "model = model.to(device)"
   ]
  },
  {
   "cell_type": "code",
   "execution_count": 8,
   "metadata": {},
   "outputs": [],
   "source": [
    "import matplotlib.pylab as plt\n",
    "from PIL import Image\n",
    "from scipy import ndimage as ndi\n",
    "from skimage.segmentation import mark_boundaries\n",
    "\n",
    "def show_img_mask(img, mask):\n",
    "    \n",
    "    img_mask = mark_boundaries(np.array(img), \n",
    "                        np.array(mask),\n",
    "                        outline_color=(0,1,0),\n",
    "                        color=(0,1,0))\n",
    "    plt.imshow(img_mask)\n",
    "    "
   ]
  },
  {
   "cell_type": "code",
   "execution_count": 9,
   "metadata": {},
   "outputs": [
    {
     "data": {
      "text/plain": [
       "SegNet(\n",
       "  (conv1): Conv2d(1, 16, kernel_size=(3, 3), stride=(1, 1), padding=(1, 1))\n",
       "  (conv2): Conv2d(16, 32, kernel_size=(3, 3), stride=(1, 1), padding=(1, 1))\n",
       "  (conv3): Conv2d(32, 64, kernel_size=(3, 3), stride=(1, 1), padding=(1, 1))\n",
       "  (conv4): Conv2d(64, 128, kernel_size=(3, 3), stride=(1, 1), padding=(1, 1))\n",
       "  (conv5): Conv2d(128, 256, kernel_size=(3, 3), stride=(1, 1), padding=(1, 1))\n",
       "  (upsample): Upsample(scale_factor=2.0, mode=bilinear)\n",
       "  (conv_up1): Conv2d(256, 128, kernel_size=(3, 3), stride=(1, 1), padding=(1, 1))\n",
       "  (conv_up2): Conv2d(128, 64, kernel_size=(3, 3), stride=(1, 1), padding=(1, 1))\n",
       "  (conv_up3): Conv2d(64, 32, kernel_size=(3, 3), stride=(1, 1), padding=(1, 1))\n",
       "  (conv_up4): Conv2d(32, 16, kernel_size=(3, 3), stride=(1, 1), padding=(1, 1))\n",
       "  (conv_out): Conv2d(16, 1, kernel_size=(3, 3), stride=(1, 1), padding=(1, 1))\n",
       ")"
      ]
     },
     "execution_count": 9,
     "metadata": {},
     "output_type": "execute_result"
    }
   ],
   "source": [
    "path2weights = \"./models/weights.pt\"\n",
    "model.load_state_dict(torch.load(path2weights))\n",
    "model.eval()"
   ]
  },
  {
   "cell_type": "code",
   "execution_count": 12,
   "metadata": {},
   "outputs": [
    {
     "ename": "TypeError",
     "evalue": "can't convert cuda:0 device type tensor to numpy. Use Tensor.cpu() to copy the tensor to host memory first.",
     "output_type": "error",
     "traceback": [
      "\u001b[0;31m---------------------------------------------------------------------------\u001b[0m",
      "\u001b[0;31mTypeError\u001b[0m                                 Traceback (most recent call last)",
      "Cell \u001b[0;32mIn[12], line 23\u001b[0m\n\u001b[1;32m     20\u001b[0m plt\u001b[39m.\u001b[39mimshow(mask_pred\u001b[39m.\u001b[39mcpu(), cmap\u001b[39m=\u001b[39m\u001b[39m\"\u001b[39m\u001b[39mgray\u001b[39m\u001b[39m\"\u001b[39m)\n\u001b[1;32m     22\u001b[0m plt\u001b[39m.\u001b[39msubplot(\u001b[39m1\u001b[39m, \u001b[39m3\u001b[39m, \u001b[39m3\u001b[39m) \n\u001b[0;32m---> 23\u001b[0m show_img_mask(img, mask_pred)\n",
      "Cell \u001b[0;32mIn[8], line 9\u001b[0m, in \u001b[0;36mshow_img_mask\u001b[0;34m(img, mask)\u001b[0m\n\u001b[1;32m      6\u001b[0m \u001b[39mdef\u001b[39;00m \u001b[39mshow_img_mask\u001b[39m(img, mask):\n\u001b[1;32m      8\u001b[0m     img_mask \u001b[39m=\u001b[39m mark_boundaries(np\u001b[39m.\u001b[39marray(img), \n\u001b[0;32m----> 9\u001b[0m                         np\u001b[39m.\u001b[39;49marray(mask),\n\u001b[1;32m     10\u001b[0m                         outline_color\u001b[39m=\u001b[39m(\u001b[39m0\u001b[39m,\u001b[39m1\u001b[39m,\u001b[39m0\u001b[39m),\n\u001b[1;32m     11\u001b[0m                         color\u001b[39m=\u001b[39m(\u001b[39m0\u001b[39m,\u001b[39m1\u001b[39m,\u001b[39m0\u001b[39m))\n\u001b[1;32m     12\u001b[0m     plt\u001b[39m.\u001b[39mimshow(img_mask)\n",
      "File \u001b[0;32m~/.local/lib/python3.8/site-packages/torch/_tensor.py:757\u001b[0m, in \u001b[0;36mTensor.__array__\u001b[0;34m(self, dtype)\u001b[0m\n\u001b[1;32m    755\u001b[0m     \u001b[39mreturn\u001b[39;00m handle_torch_function(Tensor\u001b[39m.\u001b[39m__array__, (\u001b[39mself\u001b[39m,), \u001b[39mself\u001b[39m, dtype\u001b[39m=\u001b[39mdtype)\n\u001b[1;32m    756\u001b[0m \u001b[39mif\u001b[39;00m dtype \u001b[39mis\u001b[39;00m \u001b[39mNone\u001b[39;00m:\n\u001b[0;32m--> 757\u001b[0m     \u001b[39mreturn\u001b[39;00m \u001b[39mself\u001b[39;49m\u001b[39m.\u001b[39;49mnumpy()\n\u001b[1;32m    758\u001b[0m \u001b[39melse\u001b[39;00m:\n\u001b[1;32m    759\u001b[0m     \u001b[39mreturn\u001b[39;00m \u001b[39mself\u001b[39m\u001b[39m.\u001b[39mnumpy()\u001b[39m.\u001b[39mastype(dtype, copy\u001b[39m=\u001b[39m\u001b[39mFalse\u001b[39;00m)\n",
      "\u001b[0;31mTypeError\u001b[0m: can't convert cuda:0 device type tensor to numpy. Use Tensor.cpu() to copy the tensor to host memory first."
     ]
    },
    {
     "data": {
      "image/png": "[encoded data removed]",
      "text/plain": [
       "<Figure size 640x480 with 3 Axes>"
      ]
     },
     "metadata": {},
     "output_type": "display_data"
    }
   ],
   "source": [
    "from torchvision.transforms.functional import to_tensor, to_pil_image\n",
    "\n",
    "path2train = \"./data/training_test/\"\n",
    "\n",
    "for fn in rndImgs:\n",
    "    path2img = os.path.join(path2test, fn)\n",
    "    img = Image.open(path2img)\n",
    "    img = img.resize((w,h))\n",
    "    img_t = to_tensor(img).unsqueeze(0).to(device)\n",
    "    \n",
    "    pred = model(img_t)\n",
    "    pred = torch.sigmoid(pred)[0]\n",
    "    mask_pred = (pred[0]>=0.5)\n",
    "\n",
    "    plt.figure()\n",
    "    plt.subplot(1, 3, 1) \n",
    "    plt.imshow(img, cmap=\"gray\")\n",
    "\n",
    "    plt.subplot(1, 3, 2) \n",
    "    plt.imshow(mask_pred.cpu(), cmap=\"gray\")\n",
    "    \n",
    "    plt.subplot(1, 3, 3) \n",
    "    show_img_mask(img, mask_pred.cpu())\n"
   ]
  },
  {
   "cell_type": "code",
   "execution_count": null,
   "metadata": {},
   "outputs": [],
   "source": []
  }
 ],
 "metadata": {
  "kernelspec": {
   "display_name": "Python 3",
   "language": "python",
   "name": "python3"
  },
  "language_info": {
   "codemirror_mode": {
    "name": "ipython",
    "version": 3
   },
   "file_extension": ".py",
   "mimetype": "text/x-python",
   "name": "python",
   "nbconvert_exporter": "python",
   "pygments_lexer": "ipython3",
   "version": "3.8.17"
  }
 },
 "nbformat": 4,
 "nbformat_minor": 2
}
