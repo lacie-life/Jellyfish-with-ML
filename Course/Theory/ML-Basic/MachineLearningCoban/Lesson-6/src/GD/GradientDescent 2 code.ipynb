{
 "cells": [
  {
   "cell_type": "code",
   "execution_count": 2,
   "metadata": {
    "collapsed": true
   },
   "outputs": [],
   "source": [
    "# To support both python 2 and python 3\n",
    "from __future__ import division, print_function, unicode_literals\n",
    "import math\n",
    "import numpy as np \n",
    "\n",
    "import matplotlib.pyplot as plt"
   ]
  },
  {
   "cell_type": "code",
   "execution_count": 53,
   "metadata": {
    "collapsed": false
   },
   "outputs": [],
   "source": [
    "eta = .05\n",
    "x0 = 5\n",
    "c_sin = 5\n",
    "title = '$f(x) = x^2 + %dsin(x)$; ' %c_sin\n",
    "title += '$x_0 =  %.2f$; ' %x0\n",
    "title += r'$\\eta = %.2f$ ' % eta \n",
    "file_name = 'gd_14.gif'\n",
    "def grad(x):\n",
    "    return 2*x+ 10*np.cos(x)\n",
    "\n",
    "def grad2(x):\n",
    "    return 2 - 10*np.sin(x)\n",
    "\n",
    "def cost(x):\n",
    "    return x**2 + 10*np.sin(x)\n",
    "\n",
    "\n",
    "\n",
    "def GD_newton(x0):\n",
    "    x = [x0]    \n",
    "    for it in range(100):\n",
    "        g1 = grad(x[-1])\n",
    "        g2 = grad2(x[-1])\n",
    "        if abs(g2) < 1e-3:\n",
    "            break\n",
    "        x_new = x[-1] - g1/grad2(x[-1])\n",
    "        print(grad(x[-1]))\n",
    "        x.append(x_new)\n",
    "    return (x, it)\n",
    "\n"
   ]
  },
  {
   "cell_type": "markdown",
   "metadata": {},
   "source": [
    "Simple Newton method with function x^3"
   ]
  },
  {
   "cell_type": "code",
   "execution_count": 70,
   "metadata": {
    "collapsed": false
   },
   "outputs": [],
   "source": [
    "x0 = 5\n",
    "\n",
    "def cost(x):\n",
    "    return x**2 + 10*np.sin(x)\n",
    "\n",
    "def grad(x):\n",
    "    return 2*x + 10*np.cos(x)\n",
    "\n",
    "def myGD1(x0, eta = 0.1):\n",
    "    x = [x0]\n",
    "    for it in range(100):\n",
    "        x_new = x[-1] - eta*grad(x[-1])\n",
    "        if abs(grad(x_new)) < 1e-3:\n",
    "            break\n",
    "        x.append(x_new)\n",
    "    x = np.asarray(x)\n",
    "    return (x, it)\n",
    "\n",
    "def GD_newton(x0):\n",
    "    x = [x0]\n",
    "    for it in range(100):\n",
    "        if abs(cost(x[-1])) < 1e-6 or abs(grad(x[-1])) < 1e-6:\n",
    "            break\n",
    "        x_new = x[-1] - 3*cost(x[-1])/grad(x[-1])\n",
    "        print(x_new, cost(x[-1]), grad(x[-1]))\n",
    "        x.append(x_new)\n",
    "    return (x, it)\n",
    "\n",
    "def Momentum(x0, eta = 0.1, gamma = 0.9):\n",
    "    v = [0]\n",
    "    x = [x0]\n",
    "    for it in range(100):\n",
    "        g = grad(x[-1])\n",
    "        if abs(g) < 1e-6:\n",
    "            break\n",
    "        v_new = gamma*v[-1] + eta*g\n",
    "        x_new = x[-1] - v_new\n",
    "        v.append(v_new)\n",
    "        x.append(x_new)\n",
    "    return (np.asarray(x), v, it)\n",
    "\n",
    "(x, v, it) = Momentum(5, 0.1, 0.9)\n",
    "# print(it, x)\n",
    "\n",
    "# print(GD_newton(x0))\n",
    "\n",
    "# GD_newton(-10)\n",
    "\n",
    "def plot_fn(fn, xmin = -5, xmax = 5, xaxis = True, opts = 'b-'):\n",
    "    x = np.linspace(xmin, xmax, 1000)\n",
    "    y = fn(x)\n",
    "    ymin = np.min(y) - .5\n",
    "    ymax = np.max(y) + .5\n",
    "    plt.axis([xmin, xmax, ymin, ymax])\n",
    "    if xaxis:\n",
    "        x0 = np.linspace(xmin, xmax, 2)\n",
    "        plt.plot([xmin, xmax], [0, 0], 'k')\n",
    "    plt.plot(x, y, opts)\n",
    "# plot_fn(cost, -10, 10)\n",
    "\n",
    "# plt.show()"
   ]
  },
  {
   "cell_type": "code",
   "execution_count": 73,
   "metadata": {
    "collapsed": false
   },
   "outputs": [
    {
     "data": {
      "image/png": "[encoded data removed]",
      "text/plain": [
       "<matplotlib.figure.Figure at 0x7fdb24e4b550>"
      ]
     },
     "metadata": {},
     "output_type": "display_data"
    }
   ],
   "source": [
    "## Momentum example\n",
    "import matplotlib.animation as animation\n",
    "from matplotlib.animation import FuncAnimation \n",
    "def viz_alg_1d(x, cost, filename = 'momentum1d2.gif'):\n",
    "#     x = x.asarray()\n",
    "    it = len(x)\n",
    "    y = cost(x)\n",
    "    xmin, xmax = np.min(x), np.max(x)\n",
    "    ymin, ymax = np.min(y), np.max(y)\n",
    "    \n",
    "    xmin, xmax = -4, 6\n",
    "    ymin, ymax = -12, 25\n",
    "    \n",
    "    x0 = np.linspace(xmin-1, xmax+1, 1000)\n",
    "    y0 = cost(x0)\n",
    "       \n",
    "    fig, ax = plt.subplots(figsize=(4, 4))  \n",
    "    \n",
    "    def update(i):\n",
    "        ani = plt.cla()\n",
    "        plt.axis([xmin, xmax, ymin, ymax])\n",
    "        plt.plot(x0, y0)\n",
    "        ani = plt.title('$f(x) = x^2 + 10\\sin(x); x_0 = 5; \\eta = 0.1; \\gamma = 0.9$')\n",
    "        if i == 0:\n",
    "            ani = plt.plot(x[i], y[i], 'ro', markersize = 7)\n",
    "        else:\n",
    "            ani = plt.plot(x[i-1], y[i-1], 'ok', markersize = 7)\n",
    "            ani = plt.plot(x[i-1:i+1], y[i-1:i+1], 'k-')\n",
    "            ani = plt.plot(x[i], y[i], 'ro', markersize = 7)\n",
    "        label = 'GD with Momemtum: iter %d/%d' %(i, it)\n",
    "        ax.set_xlabel(label)\n",
    "        return ani, ax \n",
    "        \n",
    "    anim = FuncAnimation(fig, update, frames=np.arange(0, it), interval=200)\n",
    "    anim.save(filename, dpi = 100, writer = 'imagemagick')\n",
    "    plt.show()\n",
    "    \n",
    "# x = np.asarray(x)\n",
    "(x, v, it) = Momentum(-5, 0.1, .9)\n",
    "viz_alg_1d(x, cost)"
   ]
  },
  {
   "cell_type": "code",
   "execution_count": 67,
   "metadata": {
    "collapsed": false
   },
   "outputs": [
    {
     "data": {
      "image/png": "[encoded data removed]",
      "text/plain": [
       "<matplotlib.figure.Figure at 0x7fdb24f1a950>"
      ]
     },
     "metadata": {},
     "output_type": "display_data"
    }
   ],
   "source": [
    "## GD example\n",
    "import matplotlib.animation as animation\n",
    "from matplotlib.animation import FuncAnimation \n",
    "def viz_alg_1d_2(x, cost, filename = 'nomomentum1d.gif'):\n",
    "#     x = x.asarray()\n",
    "    it = len(x)\n",
    "    y = cost(x)\n",
    "    xmin, xmax = np.min(x), np.max(x)\n",
    "    ymin, ymax = np.min(y), np.max(y)\n",
    "    xmin, xmax = -4, 6\n",
    "    ymin, ymax = -12, 25\n",
    "    x0 = np.linspace(xmin-1, xmax+1, 1000)\n",
    "    y0 = cost(x0)\n",
    "       \n",
    "    fig, ax = plt.subplots(figsize=(4, 4))  \n",
    "    \n",
    "    def update(i):\n",
    "        ani = plt.cla()\n",
    "        plt.axis([-4 , 6, -13, 26])\n",
    "        plt.plot(x0, y0)\n",
    "        plt.axis([xmin, xmax, ymin, ymax])\n",
    "        ani = plt.title('$f(x) = x^2 + 10\\sin(x); x_0 = 5; \\eta = 0.1$')\n",
    "        if i == 0:\n",
    "            ani = plt.plot(x[i], y[i], 'ro', markersize = 7)\n",
    "        else:\n",
    "            ani = plt.plot(x[i-1], y[i-1], 'ok', markersize = 7)\n",
    "            ani = plt.plot(x[i-1:i+1], y[i-1:i+1], 'k-')\n",
    "            ani = plt.plot(x[i], y[i], 'ro', markersize = 7)\n",
    "        label = 'GD without Momemtum: iter %d/%d' %(i, it)\n",
    "        ax.set_xlabel(label)\n",
    "        return ani, ax \n",
    "        \n",
    "    anim = FuncAnimation(fig, update, frames=np.arange(0, it), interval=200)\n",
    "    anim.save(filename, dpi = 100, writer = 'imagemagick')\n",
    "    plt.show()\n",
    "    \n",
    "# x = np.asarray(x)\n",
    "(x, it) = myGD1(5, 0.1)\n",
    "viz_alg_1d_2(x, cost)"
   ]
  }
 ],
 "metadata": {
  "kernelspec": {
   "display_name": "Python 2",
   "language": "python",
   "name": "python2"
  },
  "language_info": {
   "codemirror_mode": {
    "name": "ipython",
    "version": 2
   },
   "file_extension": ".py",
   "mimetype": "text/x-python",
   "name": "python",
   "nbconvert_exporter": "python",
   "pygments_lexer": "ipython2",
   "version": "2.7.13"
  }
 },
 "nbformat": 4,
 "nbformat_minor": 2
}
