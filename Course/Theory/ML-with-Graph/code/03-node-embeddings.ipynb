{
  "nbformat": 4,
  "nbformat_minor": 0,
  "metadata": {
    "colab": {
      "name": "03-node-embeddings.ipynb",
      "provenance": [],
      "collapsed_sections": [],
      "authorship_tag": "ABX9TyPPYOpkRD2Pz6At5ZD0obVB",
      "include_colab_link": true
    },
    "kernelspec": {
      "name": "python3",
      "display_name": "Python 3"
    },
    "language_info": {
      "name": "python"
    },
    "widgets": {
      "application/vnd.jupyter.widget-state+json": {
        "a299f410d21549a6be2734dfee5c105f": {
          "model_module": "@jupyter-widgets/controls",
          "model_name": "HBoxModel",
          "model_module_version": "1.5.0",
          "state": {
            "_view_name": "HBoxView",
            "_dom_classes": [],
            "_model_name": "HBoxModel",
            "_view_module": "@jupyter-widgets/controls",
            "_model_module_version": "1.5.0",
            "_view_count": null,
            "_view_module_version": "1.5.0",
            "box_style": "",
            "layout": "IPY_MODEL_766fa195ad7e4aec982ded7fa20474af",
            "_model_module": "@jupyter-widgets/controls",
            "children": [
              "IPY_MODEL_1510a8978f124d7e8540bae138e905cb",
              "IPY_MODEL_754ff4261d9b4ddc8b45ab5c068e1137",
              "IPY_MODEL_78e76f15f3fc43499a244a6df44f842c"
            ]
          }
        },
        "766fa195ad7e4aec982ded7fa20474af": {
          "model_module": "@jupyter-widgets/base",
          "model_name": "LayoutModel",
          "model_module_version": "1.2.0",
          "state": {
            "_view_name": "LayoutView",
            "grid_template_rows": null,
            "right": null,
            "justify_content": null,
            "_view_module": "@jupyter-widgets/base",
            "overflow": null,
            "_model_module_version": "1.2.0",
            "_view_count": null,
            "flex_flow": null,
            "width": null,
            "min_width": null,
            "border": null,
            "align_items": null,
            "bottom": null,
            "_model_module": "@jupyter-widgets/base",
            "top": null,
            "grid_column": null,
            "overflow_y": null,
            "overflow_x": null,
            "grid_auto_flow": null,
            "grid_area": null,
            "grid_template_columns": null,
            "flex": null,
            "_model_name": "LayoutModel",
            "justify_items": null,
            "grid_row": null,
            "max_height": null,
            "align_content": null,
            "visibility": null,
            "align_self": null,
            "height": null,
            "min_height": null,
            "padding": null,
            "grid_auto_rows": null,
            "grid_gap": null,
            "max_width": null,
            "order": null,
            "_view_module_version": "1.2.0",
            "grid_template_areas": null,
            "object_position": null,
            "object_fit": null,
            "grid_auto_columns": null,
            "margin": null,
            "display": null,
            "left": null
          }
        },
        "1510a8978f124d7e8540bae138e905cb": {
          "model_module": "@jupyter-widgets/controls",
          "model_name": "HTMLModel",
          "model_module_version": "1.5.0",
          "state": {
            "_view_name": "HTMLView",
            "style": "IPY_MODEL_d1afb717795c4e0697b772bbc01ed9fa",
            "_dom_classes": [],
            "description": "",
            "_model_name": "HTMLModel",
            "placeholder": "​",
            "_view_module": "@jupyter-widgets/controls",
            "_model_module_version": "1.5.0",
            "value": "100%",
            "_view_count": null,
            "_view_module_version": "1.5.0",
            "description_tooltip": null,
            "_model_module": "@jupyter-widgets/controls",
            "layout": "IPY_MODEL_30f27488e37946a3b1af18a924c4275a"
          }
        },
        "754ff4261d9b4ddc8b45ab5c068e1137": {
          "model_module": "@jupyter-widgets/controls",
          "model_name": "FloatProgressModel",
          "model_module_version": "1.5.0",
          "state": {
            "_view_name": "ProgressView",
            "style": "IPY_MODEL_107072f072234b39b55edf0bf9fde0ba",
            "_dom_classes": [],
            "description": "",
            "_model_name": "FloatProgressModel",
            "bar_style": "success",
            "max": 1000,
            "_view_module": "@jupyter-widgets/controls",
            "_model_module_version": "1.5.0",
            "value": 1000,
            "_view_count": null,
            "_view_module_version": "1.5.0",
            "orientation": "horizontal",
            "min": 0,
            "description_tooltip": null,
            "_model_module": "@jupyter-widgets/controls",
            "layout": "IPY_MODEL_d05dbeb754e74926a103d81d419b56a6"
          }
        },
        "78e76f15f3fc43499a244a6df44f842c": {
          "model_module": "@jupyter-widgets/controls",
          "model_name": "HTMLModel",
          "model_module_version": "1.5.0",
          "state": {
            "_view_name": "HTMLView",
            "style": "IPY_MODEL_f0575bd9b6fc4d2fa7f4ca138a512089",
            "_dom_classes": [],
            "description": "",
            "_model_name": "HTMLModel",
            "placeholder": "​",
            "_view_module": "@jupyter-widgets/controls",
            "_model_module_version": "1.5.0",
            "value": " 1000/1000 [01:53&lt;00:00, 10.84it/s]",
            "_view_count": null,
            "_view_module_version": "1.5.0",
            "description_tooltip": null,
            "_model_module": "@jupyter-widgets/controls",
            "layout": "IPY_MODEL_660a0de75f36459db20c0bfb4afceb54"
          }
        },
        "d1afb717795c4e0697b772bbc01ed9fa": {
          "model_module": "@jupyter-widgets/controls",
          "model_name": "DescriptionStyleModel",
          "model_module_version": "1.5.0",
          "state": {
            "_view_name": "StyleView",
            "_model_name": "DescriptionStyleModel",
            "description_width": "",
            "_view_module": "@jupyter-widgets/base",
            "_model_module_version": "1.5.0",
            "_view_count": null,
            "_view_module_version": "1.2.0",
            "_model_module": "@jupyter-widgets/controls"
          }
        },
        "30f27488e37946a3b1af18a924c4275a": {
          "model_module": "@jupyter-widgets/base",
          "model_name": "LayoutModel",
          "model_module_version": "1.2.0",
          "state": {
            "_view_name": "LayoutView",
            "grid_template_rows": null,
            "right": null,
            "justify_content": null,
            "_view_module": "@jupyter-widgets/base",
            "overflow": null,
            "_model_module_version": "1.2.0",
            "_view_count": null,
            "flex_flow": null,
            "width": null,
            "min_width": null,
            "border": null,
            "align_items": null,
            "bottom": null,
            "_model_module": "@jupyter-widgets/base",
            "top": null,
            "grid_column": null,
            "overflow_y": null,
            "overflow_x": null,
            "grid_auto_flow": null,
            "grid_area": null,
            "grid_template_columns": null,
            "flex": null,
            "_model_name": "LayoutModel",
            "justify_items": null,
            "grid_row": null,
            "max_height": null,
            "align_content": null,
            "visibility": null,
            "align_self": null,
            "height": null,
            "min_height": null,
            "padding": null,
            "grid_auto_rows": null,
            "grid_gap": null,
            "max_width": null,
            "order": null,
            "_view_module_version": "1.2.0",
            "grid_template_areas": null,
            "object_position": null,
            "object_fit": null,
            "grid_auto_columns": null,
            "margin": null,
            "display": null,
            "left": null
          }
        },
        "107072f072234b39b55edf0bf9fde0ba": {
          "model_module": "@jupyter-widgets/controls",
          "model_name": "ProgressStyleModel",
          "model_module_version": "1.5.0",
          "state": {
            "_view_name": "StyleView",
            "_model_name": "ProgressStyleModel",
            "description_width": "",
            "_view_module": "@jupyter-widgets/base",
            "_model_module_version": "1.5.0",
            "_view_count": null,
            "_view_module_version": "1.2.0",
            "bar_color": null,
            "_model_module": "@jupyter-widgets/controls"
          }
        },
        "d05dbeb754e74926a103d81d419b56a6": {
          "model_module": "@jupyter-widgets/base",
          "model_name": "LayoutModel",
          "model_module_version": "1.2.0",
          "state": {
            "_view_name": "LayoutView",
            "grid_template_rows": null,
            "right": null,
            "justify_content": null,
            "_view_module": "@jupyter-widgets/base",
            "overflow": null,
            "_model_module_version": "1.2.0",
            "_view_count": null,
            "flex_flow": null,
            "width": null,
            "min_width": null,
            "border": null,
            "align_items": null,
            "bottom": null,
            "_model_module": "@jupyter-widgets/base",
            "top": null,
            "grid_column": null,
            "overflow_y": null,
            "overflow_x": null,
            "grid_auto_flow": null,
            "grid_area": null,
            "grid_template_columns": null,
            "flex": null,
            "_model_name": "LayoutModel",
            "justify_items": null,
            "grid_row": null,
            "max_height": null,
            "align_content": null,
            "visibility": null,
            "align_self": null,
            "height": null,
            "min_height": null,
            "padding": null,
            "grid_auto_rows": null,
            "grid_gap": null,
            "max_width": null,
            "order": null,
            "_view_module_version": "1.2.0",
            "grid_template_areas": null,
            "object_position": null,
            "object_fit": null,
            "grid_auto_columns": null,
            "margin": null,
            "display": null,
            "left": null
          }
        },
        "f0575bd9b6fc4d2fa7f4ca138a512089": {
          "model_module": "@jupyter-widgets/controls",
          "model_name": "DescriptionStyleModel",
          "model_module_version": "1.5.0",
          "state": {
            "_view_name": "StyleView",
            "_model_name": "DescriptionStyleModel",
            "description_width": "",
            "_view_module": "@jupyter-widgets/base",
            "_model_module_version": "1.5.0",
            "_view_count": null,
            "_view_module_version": "1.2.0",
            "_model_module": "@jupyter-widgets/controls"
          }
        },
        "660a0de75f36459db20c0bfb4afceb54": {
          "model_module": "@jupyter-widgets/base",
          "model_name": "LayoutModel",
          "model_module_version": "1.2.0",
          "state": {
            "_view_name": "LayoutView",
            "grid_template_rows": null,
            "right": null,
            "justify_content": null,
            "_view_module": "@jupyter-widgets/base",
            "overflow": null,
            "_model_module_version": "1.2.0",
            "_view_count": null,
            "flex_flow": null,
            "width": null,
            "min_width": null,
            "border": null,
            "align_items": null,
            "bottom": null,
            "_model_module": "@jupyter-widgets/base",
            "top": null,
            "grid_column": null,
            "overflow_y": null,
            "overflow_x": null,
            "grid_auto_flow": null,
            "grid_area": null,
            "grid_template_columns": null,
            "flex": null,
            "_model_name": "LayoutModel",
            "justify_items": null,
            "grid_row": null,
            "max_height": null,
            "align_content": null,
            "visibility": null,
            "align_self": null,
            "height": null,
            "min_height": null,
            "padding": null,
            "grid_auto_rows": null,
            "grid_gap": null,
            "max_width": null,
            "order": null,
            "_view_module_version": "1.2.0",
            "grid_template_areas": null,
            "object_position": null,
            "object_fit": null,
            "grid_auto_columns": null,
            "margin": null,
            "display": null,
            "left": null
          }
        },
        "714b18f285eb47f585c564c20c972a44": {
          "model_module": "@jupyter-widgets/controls",
          "model_name": "HBoxModel",
          "model_module_version": "1.5.0",
          "state": {
            "_view_name": "HBoxView",
            "_dom_classes": [],
            "_model_name": "HBoxModel",
            "_view_module": "@jupyter-widgets/controls",
            "_model_module_version": "1.5.0",
            "_view_count": null,
            "_view_module_version": "1.5.0",
            "box_style": "",
            "layout": "IPY_MODEL_d5c73353126a4f61b33bbebbeeb68667",
            "_model_module": "@jupyter-widgets/controls",
            "children": [
              "IPY_MODEL_f332aea11f3d428da81a03874859afda",
              "IPY_MODEL_1b6442afc0544e90b763083fb11df589",
              "IPY_MODEL_ebc51957d75b4e6b98e97f8f6a40cd40"
            ]
          }
        },
        "d5c73353126a4f61b33bbebbeeb68667": {
          "model_module": "@jupyter-widgets/base",
          "model_name": "LayoutModel",
          "model_module_version": "1.2.0",
          "state": {
            "_view_name": "LayoutView",
            "grid_template_rows": null,
            "right": null,
            "justify_content": null,
            "_view_module": "@jupyter-widgets/base",
            "overflow": null,
            "_model_module_version": "1.2.0",
            "_view_count": null,
            "flex_flow": null,
            "width": null,
            "min_width": null,
            "border": null,
            "align_items": null,
            "bottom": null,
            "_model_module": "@jupyter-widgets/base",
            "top": null,
            "grid_column": null,
            "overflow_y": null,
            "overflow_x": null,
            "grid_auto_flow": null,
            "grid_area": null,
            "grid_template_columns": null,
            "flex": null,
            "_model_name": "LayoutModel",
            "justify_items": null,
            "grid_row": null,
            "max_height": null,
            "align_content": null,
            "visibility": null,
            "align_self": null,
            "height": null,
            "min_height": null,
            "padding": null,
            "grid_auto_rows": null,
            "grid_gap": null,
            "max_width": null,
            "order": null,
            "_view_module_version": "1.2.0",
            "grid_template_areas": null,
            "object_position": null,
            "object_fit": null,
            "grid_auto_columns": null,
            "margin": null,
            "display": null,
            "left": null
          }
        },
        "f332aea11f3d428da81a03874859afda": {
          "model_module": "@jupyter-widgets/controls",
          "model_name": "HTMLModel",
          "model_module_version": "1.5.0",
          "state": {
            "_view_name": "HTMLView",
            "style": "IPY_MODEL_ca9de76aef94432abfff1c706535726e",
            "_dom_classes": [],
            "description": "",
            "_model_name": "HTMLModel",
            "placeholder": "​",
            "_view_module": "@jupyter-widgets/controls",
            "_model_module_version": "1.5.0",
            "value": "100%",
            "_view_count": null,
            "_view_module_version": "1.5.0",
            "description_tooltip": null,
            "_model_module": "@jupyter-widgets/controls",
            "layout": "IPY_MODEL_937b216a3085479c89120636d52977fe"
          }
        },
        "1b6442afc0544e90b763083fb11df589": {
          "model_module": "@jupyter-widgets/controls",
          "model_name": "FloatProgressModel",
          "model_module_version": "1.5.0",
          "state": {
            "_view_name": "ProgressView",
            "style": "IPY_MODEL_1c62c89a8c0b429198d4410ab063b575",
            "_dom_classes": [],
            "description": "",
            "_model_name": "FloatProgressModel",
            "bar_style": "success",
            "max": 1000,
            "_view_module": "@jupyter-widgets/controls",
            "_model_module_version": "1.5.0",
            "value": 1000,
            "_view_count": null,
            "_view_module_version": "1.5.0",
            "orientation": "horizontal",
            "min": 0,
            "description_tooltip": null,
            "_model_module": "@jupyter-widgets/controls",
            "layout": "IPY_MODEL_92180c4652c348ccb378a0afe5d3f0ef"
          }
        },
        "ebc51957d75b4e6b98e97f8f6a40cd40": {
          "model_module": "@jupyter-widgets/controls",
          "model_name": "HTMLModel",
          "model_module_version": "1.5.0",
          "state": {
            "_view_name": "HTMLView",
            "style": "IPY_MODEL_888a19aa49984a62859d78485b612804",
            "_dom_classes": [],
            "description": "",
            "_model_name": "HTMLModel",
            "placeholder": "​",
            "_view_module": "@jupyter-widgets/controls",
            "_model_module_version": "1.5.0",
            "value": " 1000/1000 [02:02&lt;00:00, 10.51it/s]",
            "_view_count": null,
            "_view_module_version": "1.5.0",
            "description_tooltip": null,
            "_model_module": "@jupyter-widgets/controls",
            "layout": "IPY_MODEL_e3e8e224bbe14fe1a60e113d0ee82590"
          }
        },
        "ca9de76aef94432abfff1c706535726e": {
          "model_module": "@jupyter-widgets/controls",
          "model_name": "DescriptionStyleModel",
          "model_module_version": "1.5.0",
          "state": {
            "_view_name": "StyleView",
            "_model_name": "DescriptionStyleModel",
            "description_width": "",
            "_view_module": "@jupyter-widgets/base",
            "_model_module_version": "1.5.0",
            "_view_count": null,
            "_view_module_version": "1.2.0",
            "_model_module": "@jupyter-widgets/controls"
          }
        },
        "937b216a3085479c89120636d52977fe": {
          "model_module": "@jupyter-widgets/base",
          "model_name": "LayoutModel",
          "model_module_version": "1.2.0",
          "state": {
            "_view_name": "LayoutView",
            "grid_template_rows": null,
            "right": null,
            "justify_content": null,
            "_view_module": "@jupyter-widgets/base",
            "overflow": null,
            "_model_module_version": "1.2.0",
            "_view_count": null,
            "flex_flow": null,
            "width": null,
            "min_width": null,
            "border": null,
            "align_items": null,
            "bottom": null,
            "_model_module": "@jupyter-widgets/base",
            "top": null,
            "grid_column": null,
            "overflow_y": null,
            "overflow_x": null,
            "grid_auto_flow": null,
            "grid_area": null,
            "grid_template_columns": null,
            "flex": null,
            "_model_name": "LayoutModel",
            "justify_items": null,
            "grid_row": null,
            "max_height": null,
            "align_content": null,
            "visibility": null,
            "align_self": null,
            "height": null,
            "min_height": null,
            "padding": null,
            "grid_auto_rows": null,
            "grid_gap": null,
            "max_width": null,
            "order": null,
            "_view_module_version": "1.2.0",
            "grid_template_areas": null,
            "object_position": null,
            "object_fit": null,
            "grid_auto_columns": null,
            "margin": null,
            "display": null,
            "left": null
          }
        },
        "1c62c89a8c0b429198d4410ab063b575": {
          "model_module": "@jupyter-widgets/controls",
          "model_name": "ProgressStyleModel",
          "model_module_version": "1.5.0",
          "state": {
            "_view_name": "StyleView",
            "_model_name": "ProgressStyleModel",
            "description_width": "",
            "_view_module": "@jupyter-widgets/base",
            "_model_module_version": "1.5.0",
            "_view_count": null,
            "_view_module_version": "1.2.0",
            "bar_color": null,
            "_model_module": "@jupyter-widgets/controls"
          }
        },
        "92180c4652c348ccb378a0afe5d3f0ef": {
          "model_module": "@jupyter-widgets/base",
          "model_name": "LayoutModel",
          "model_module_version": "1.2.0",
          "state": {
            "_view_name": "LayoutView",
            "grid_template_rows": null,
            "right": null,
            "justify_content": null,
            "_view_module": "@jupyter-widgets/base",
            "overflow": null,
            "_model_module_version": "1.2.0",
            "_view_count": null,
            "flex_flow": null,
            "width": null,
            "min_width": null,
            "border": null,
            "align_items": null,
            "bottom": null,
            "_model_module": "@jupyter-widgets/base",
            "top": null,
            "grid_column": null,
            "overflow_y": null,
            "overflow_x": null,
            "grid_auto_flow": null,
            "grid_area": null,
            "grid_template_columns": null,
            "flex": null,
            "_model_name": "LayoutModel",
            "justify_items": null,
            "grid_row": null,
            "max_height": null,
            "align_content": null,
            "visibility": null,
            "align_self": null,
            "height": null,
            "min_height": null,
            "padding": null,
            "grid_auto_rows": null,
            "grid_gap": null,
            "max_width": null,
            "order": null,
            "_view_module_version": "1.2.0",
            "grid_template_areas": null,
            "object_position": null,
            "object_fit": null,
            "grid_auto_columns": null,
            "margin": null,
            "display": null,
            "left": null
          }
        },
        "888a19aa49984a62859d78485b612804": {
          "model_module": "@jupyter-widgets/controls",
          "model_name": "DescriptionStyleModel",
          "model_module_version": "1.5.0",
          "state": {
            "_view_name": "StyleView",
            "_model_name": "DescriptionStyleModel",
            "description_width": "",
            "_view_module": "@jupyter-widgets/base",
            "_model_module_version": "1.5.0",
            "_view_count": null,
            "_view_module_version": "1.2.0",
            "_model_module": "@jupyter-widgets/controls"
          }
        },
        "e3e8e224bbe14fe1a60e113d0ee82590": {
          "model_module": "@jupyter-widgets/base",
          "model_name": "LayoutModel",
          "model_module_version": "1.2.0",
          "state": {
            "_view_name": "LayoutView",
            "grid_template_rows": null,
            "right": null,
            "justify_content": null,
            "_view_module": "@jupyter-widgets/base",
            "overflow": null,
            "_model_module_version": "1.2.0",
            "_view_count": null,
            "flex_flow": null,
            "width": null,
            "min_width": null,
            "border": null,
            "align_items": null,
            "bottom": null,
            "_model_module": "@jupyter-widgets/base",
            "top": null,
            "grid_column": null,
            "overflow_y": null,
            "overflow_x": null,
            "grid_auto_flow": null,
            "grid_area": null,
            "grid_template_columns": null,
            "flex": null,
            "_model_name": "LayoutModel",
            "justify_items": null,
            "grid_row": null,
            "max_height": null,
            "align_content": null,
            "visibility": null,
            "align_self": null,
            "height": null,
            "min_height": null,
            "padding": null,
            "grid_auto_rows": null,
            "grid_gap": null,
            "max_width": null,
            "order": null,
            "_view_module_version": "1.2.0",
            "grid_template_areas": null,
            "object_position": null,
            "object_fit": null,
            "grid_auto_columns": null,
            "margin": null,
            "display": null,
            "left": null
          }
        },
        "d241f43abf6e42ff857282876cba9a13": {
          "model_module": "@jupyter-widgets/controls",
          "model_name": "HBoxModel",
          "model_module_version": "1.5.0",
          "state": {
            "_view_name": "HBoxView",
            "_dom_classes": [],
            "_model_name": "HBoxModel",
            "_view_module": "@jupyter-widgets/controls",
            "_model_module_version": "1.5.0",
            "_view_count": null,
            "_view_module_version": "1.5.0",
            "box_style": "",
            "layout": "IPY_MODEL_e43a8c19b92541db944b4038cf0be1ec",
            "_model_module": "@jupyter-widgets/controls",
            "children": [
              "IPY_MODEL_144fd16355084045a35118dedb8b4240",
              "IPY_MODEL_2ed2c7b1431d482fbfbcbdb4dde3398e",
              "IPY_MODEL_a572769d28ab41dcba26eec0b294702c"
            ]
          }
        },
        "e43a8c19b92541db944b4038cf0be1ec": {
          "model_module": "@jupyter-widgets/base",
          "model_name": "LayoutModel",
          "model_module_version": "1.2.0",
          "state": {
            "_view_name": "LayoutView",
            "grid_template_rows": null,
            "right": null,
            "justify_content": null,
            "_view_module": "@jupyter-widgets/base",
            "overflow": null,
            "_model_module_version": "1.2.0",
            "_view_count": null,
            "flex_flow": null,
            "width": null,
            "min_width": null,
            "border": null,
            "align_items": null,
            "bottom": null,
            "_model_module": "@jupyter-widgets/base",
            "top": null,
            "grid_column": null,
            "overflow_y": null,
            "overflow_x": null,
            "grid_auto_flow": null,
            "grid_area": null,
            "grid_template_columns": null,
            "flex": null,
            "_model_name": "LayoutModel",
            "justify_items": null,
            "grid_row": null,
            "max_height": null,
            "align_content": null,
            "visibility": null,
            "align_self": null,
            "height": null,
            "min_height": null,
            "padding": null,
            "grid_auto_rows": null,
            "grid_gap": null,
            "max_width": null,
            "order": null,
            "_view_module_version": "1.2.0",
            "grid_template_areas": null,
            "object_position": null,
            "object_fit": null,
            "grid_auto_columns": null,
            "margin": null,
            "display": null,
            "left": null
          }
        },
        "144fd16355084045a35118dedb8b4240": {
          "model_module": "@jupyter-widgets/controls",
          "model_name": "HTMLModel",
          "model_module_version": "1.5.0",
          "state": {
            "_view_name": "HTMLView",
            "style": "IPY_MODEL_a4fcd00a2048451da328282e00762072",
            "_dom_classes": [],
            "description": "",
            "_model_name": "HTMLModel",
            "placeholder": "​",
            "_view_module": "@jupyter-widgets/controls",
            "_model_module_version": "1.5.0",
            "value": "100%",
            "_view_count": null,
            "_view_module_version": "1.5.0",
            "description_tooltip": null,
            "_model_module": "@jupyter-widgets/controls",
            "layout": "IPY_MODEL_40815a8ef7274863834997555fdece70"
          }
        },
        "2ed2c7b1431d482fbfbcbdb4dde3398e": {
          "model_module": "@jupyter-widgets/controls",
          "model_name": "FloatProgressModel",
          "model_module_version": "1.5.0",
          "state": {
            "_view_name": "ProgressView",
            "style": "IPY_MODEL_7dc9107677c24f31b3b32da32043cf00",
            "_dom_classes": [],
            "description": "",
            "_model_name": "FloatProgressModel",
            "bar_style": "success",
            "max": 1000,
            "_view_module": "@jupyter-widgets/controls",
            "_model_module_version": "1.5.0",
            "value": 1000,
            "_view_count": null,
            "_view_module_version": "1.5.0",
            "orientation": "horizontal",
            "min": 0,
            "description_tooltip": null,
            "_model_module": "@jupyter-widgets/controls",
            "layout": "IPY_MODEL_0fe492c1bcd344658bcc2166f0d2774b"
          }
        },
        "a572769d28ab41dcba26eec0b294702c": {
          "model_module": "@jupyter-widgets/controls",
          "model_name": "HTMLModel",
          "model_module_version": "1.5.0",
          "state": {
            "_view_name": "HTMLView",
            "style": "IPY_MODEL_40159fb4b7764d11b5c4aa50b2fcee03",
            "_dom_classes": [],
            "description": "",
            "_model_name": "HTMLModel",
            "placeholder": "​",
            "_view_module": "@jupyter-widgets/controls",
            "_model_module_version": "1.5.0",
            "value": " 1000/1000 [00:09&lt;00:00, 127.42it/s]",
            "_view_count": null,
            "_view_module_version": "1.5.0",
            "description_tooltip": null,
            "_model_module": "@jupyter-widgets/controls",
            "layout": "IPY_MODEL_7537b467bf114abb82fc2fdab7995407"
          }
        },
        "a4fcd00a2048451da328282e00762072": {
          "model_module": "@jupyter-widgets/controls",
          "model_name": "DescriptionStyleModel",
          "model_module_version": "1.5.0",
          "state": {
            "_view_name": "StyleView",
            "_model_name": "DescriptionStyleModel",
            "description_width": "",
            "_view_module": "@jupyter-widgets/base",
            "_model_module_version": "1.5.0",
            "_view_count": null,
            "_view_module_version": "1.2.0",
            "_model_module": "@jupyter-widgets/controls"
          }
        },
        "40815a8ef7274863834997555fdece70": {
          "model_module": "@jupyter-widgets/base",
          "model_name": "LayoutModel",
          "model_module_version": "1.2.0",
          "state": {
            "_view_name": "LayoutView",
            "grid_template_rows": null,
            "right": null,
            "justify_content": null,
            "_view_module": "@jupyter-widgets/base",
            "overflow": null,
            "_model_module_version": "1.2.0",
            "_view_count": null,
            "flex_flow": null,
            "width": null,
            "min_width": null,
            "border": null,
            "align_items": null,
            "bottom": null,
            "_model_module": "@jupyter-widgets/base",
            "top": null,
            "grid_column": null,
            "overflow_y": null,
            "overflow_x": null,
            "grid_auto_flow": null,
            "grid_area": null,
            "grid_template_columns": null,
            "flex": null,
            "_model_name": "LayoutModel",
            "justify_items": null,
            "grid_row": null,
            "max_height": null,
            "align_content": null,
            "visibility": null,
            "align_self": null,
            "height": null,
            "min_height": null,
            "padding": null,
            "grid_auto_rows": null,
            "grid_gap": null,
            "max_width": null,
            "order": null,
            "_view_module_version": "1.2.0",
            "grid_template_areas": null,
            "object_position": null,
            "object_fit": null,
            "grid_auto_columns": null,
            "margin": null,
            "display": null,
            "left": null
          }
        },
        "7dc9107677c24f31b3b32da32043cf00": {
          "model_module": "@jupyter-widgets/controls",
          "model_name": "ProgressStyleModel",
          "model_module_version": "1.5.0",
          "state": {
            "_view_name": "StyleView",
            "_model_name": "ProgressStyleModel",
            "description_width": "",
            "_view_module": "@jupyter-widgets/base",
            "_model_module_version": "1.5.0",
            "_view_count": null,
            "_view_module_version": "1.2.0",
            "bar_color": null,
            "_model_module": "@jupyter-widgets/controls"
          }
        },
        "0fe492c1bcd344658bcc2166f0d2774b": {
          "model_module": "@jupyter-widgets/base",
          "model_name": "LayoutModel",
          "model_module_version": "1.2.0",
          "state": {
            "_view_name": "LayoutView",
            "grid_template_rows": null,
            "right": null,
            "justify_content": null,
            "_view_module": "@jupyter-widgets/base",
            "overflow": null,
            "_model_module_version": "1.2.0",
            "_view_count": null,
            "flex_flow": null,
            "width": null,
            "min_width": null,
            "border": null,
            "align_items": null,
            "bottom": null,
            "_model_module": "@jupyter-widgets/base",
            "top": null,
            "grid_column": null,
            "overflow_y": null,
            "overflow_x": null,
            "grid_auto_flow": null,
            "grid_area": null,
            "grid_template_columns": null,
            "flex": null,
            "_model_name": "LayoutModel",
            "justify_items": null,
            "grid_row": null,
            "max_height": null,
            "align_content": null,
            "visibility": null,
            "align_self": null,
            "height": null,
            "min_height": null,
            "padding": null,
            "grid_auto_rows": null,
            "grid_gap": null,
            "max_width": null,
            "order": null,
            "_view_module_version": "1.2.0",
            "grid_template_areas": null,
            "object_position": null,
            "object_fit": null,
            "grid_auto_columns": null,
            "margin": null,
            "display": null,
            "left": null
          }
        },
        "40159fb4b7764d11b5c4aa50b2fcee03": {
          "model_module": "@jupyter-widgets/controls",
          "model_name": "DescriptionStyleModel",
          "model_module_version": "1.5.0",
          "state": {
            "_view_name": "StyleView",
            "_model_name": "DescriptionStyleModel",
            "description_width": "",
            "_view_module": "@jupyter-widgets/base",
            "_model_module_version": "1.5.0",
            "_view_count": null,
            "_view_module_version": "1.2.0",
            "_model_module": "@jupyter-widgets/controls"
          }
        },
        "7537b467bf114abb82fc2fdab7995407": {
          "model_module": "@jupyter-widgets/base",
          "model_name": "LayoutModel",
          "model_module_version": "1.2.0",
          "state": {
            "_view_name": "LayoutView",
            "grid_template_rows": null,
            "right": null,
            "justify_content": null,
            "_view_module": "@jupyter-widgets/base",
            "overflow": null,
            "_model_module_version": "1.2.0",
            "_view_count": null,
            "flex_flow": null,
            "width": null,
            "min_width": null,
            "border": null,
            "align_items": null,
            "bottom": null,
            "_model_module": "@jupyter-widgets/base",
            "top": null,
            "grid_column": null,
            "overflow_y": null,
            "overflow_x": null,
            "grid_auto_flow": null,
            "grid_area": null,
            "grid_template_columns": null,
            "flex": null,
            "_model_name": "LayoutModel",
            "justify_items": null,
            "grid_row": null,
            "max_height": null,
            "align_content": null,
            "visibility": null,
            "align_self": null,
            "height": null,
            "min_height": null,
            "padding": null,
            "grid_auto_rows": null,
            "grid_gap": null,
            "max_width": null,
            "order": null,
            "_view_module_version": "1.2.0",
            "grid_template_areas": null,
            "object_position": null,
            "object_fit": null,
            "grid_auto_columns": null,
            "margin": null,
            "display": null,
            "left": null
          }
        }
      }
    }
  },
  "cells": [
    {
      "cell_type": "markdown",
      "metadata": {
        "id": "view-in-github",
        "colab_type": "text"
      },
      "source": [
        "<a href=\"https://colab.research.google.com/github/mnslarcher/cs224w-slides-to-code/blob/main/notebooks/03-node-embeddings.ipynb\" target=\"_parent\"><img src=\"https://colab.research.google.com/assets/colab-badge.svg\" alt=\"Open In Colab\"/></a>"
      ]
    },
    {
      "cell_type": "code",
      "metadata": {
        "colab": {
          "base_uri": "https://localhost:8080/"
        },
        "id": "-9p8vHs_4njz",
        "outputId": "8691abc4-fda4-4640-8d38-f7eba973e3b7"
      },
      "source": [
        "try:\n",
        "    # Check if Karate Club is installed:\n",
        "    import karateclub\n",
        "except ImportError:\n",
        "    # If Karate Club is not installed, install it.\n",
        "    %pip install karateclub==1.2.1"
      ],
      "execution_count": 1,
      "outputs": [
        {
          "output_type": "stream",
          "name": "stdout",
          "text": [
            "Collecting karateclub==1.2.1\n",
            "  Downloading karateclub-1.2.1.tar.gz (59 kB)\n",
            "\u001b[K     |████████████████████████████████| 59 kB 2.8 MB/s \n",
            "\u001b[?25hRequirement already satisfied: numpy in /usr/local/lib/python3.7/dist-packages (from karateclub==1.2.1) (1.19.5)\n",
            "Requirement already satisfied: networkx in /usr/local/lib/python3.7/dist-packages (from karateclub==1.2.1) (2.6.3)\n",
            "Requirement already satisfied: decorator==4.4.2 in /usr/local/lib/python3.7/dist-packages (from karateclub==1.2.1) (4.4.2)\n",
            "Requirement already satisfied: tqdm in /usr/local/lib/python3.7/dist-packages (from karateclub==1.2.1) (4.62.3)\n",
            "Requirement already satisfied: python-louvain in /usr/local/lib/python3.7/dist-packages (from karateclub==1.2.1) (0.15)\n",
            "Requirement already satisfied: scikit-learn in /usr/local/lib/python3.7/dist-packages (from karateclub==1.2.1) (1.0.1)\n",
            "Requirement already satisfied: scipy in /usr/local/lib/python3.7/dist-packages (from karateclub==1.2.1) (1.4.1)\n",
            "Collecting pygsp\n",
            "  Downloading PyGSP-0.5.1-py2.py3-none-any.whl (1.8 MB)\n",
            "\u001b[K     |████████████████████████████████| 1.8 MB 18.5 MB/s \n",
            "\u001b[?25hCollecting gensim>=4.0.0\n",
            "  Downloading gensim-4.1.2-cp37-cp37m-manylinux_2_12_x86_64.manylinux2010_x86_64.whl (24.1 MB)\n",
            "\u001b[K     |████████████████████████████████| 24.1 MB 1.8 MB/s \n",
            "\u001b[?25hRequirement already satisfied: pandas in /usr/local/lib/python3.7/dist-packages (from karateclub==1.2.1) (1.1.5)\n",
            "Requirement already satisfied: six in /usr/local/lib/python3.7/dist-packages (from karateclub==1.2.1) (1.15.0)\n",
            "Requirement already satisfied: smart-open>=1.8.1 in /usr/local/lib/python3.7/dist-packages (from gensim>=4.0.0->karateclub==1.2.1) (5.2.1)\n",
            "Requirement already satisfied: pytz>=2017.2 in /usr/local/lib/python3.7/dist-packages (from pandas->karateclub==1.2.1) (2018.9)\n",
            "Requirement already satisfied: python-dateutil>=2.7.3 in /usr/local/lib/python3.7/dist-packages (from pandas->karateclub==1.2.1) (2.8.2)\n",
            "Requirement already satisfied: threadpoolctl>=2.0.0 in /usr/local/lib/python3.7/dist-packages (from scikit-learn->karateclub==1.2.1) (3.0.0)\n",
            "Requirement already satisfied: joblib>=0.11 in /usr/local/lib/python3.7/dist-packages (from scikit-learn->karateclub==1.2.1) (1.1.0)\n",
            "Building wheels for collected packages: karateclub\n",
            "  Building wheel for karateclub (setup.py) ... \u001b[?25l\u001b[?25hdone\n",
            "  Created wheel for karateclub: filename=karateclub-1.2.1-py3-none-any.whl size=94671 sha256=bfd35360dc58bb33c3ae0da5d118f66fc4eb7311999a8ae6c5af5c1bb3fce8fb\n",
            "  Stored in directory: /root/.cache/pip/wheels/70/d3/49/b058bfc660537177cefe9bd1f53de94e9762bd1c5ef668a523\n",
            "Successfully built karateclub\n",
            "Installing collected packages: pygsp, gensim, karateclub\n",
            "  Attempting uninstall: gensim\n",
            "    Found existing installation: gensim 3.6.0\n",
            "    Uninstalling gensim-3.6.0:\n",
            "      Successfully uninstalled gensim-3.6.0\n",
            "Successfully installed gensim-4.1.2 karateclub-1.2.1 pygsp-0.5.1\n"
          ]
        }
      ]
    },
    {
      "cell_type": "markdown",
      "metadata": {
        "id": "t0ZcQZAp1QXd"
      },
      "source": [
        "# Node Embeddings"
      ]
    },
    {
      "cell_type": "code",
      "metadata": {
        "id": "Vaw_ycbK11l5"
      },
      "source": [
        "import random\n",
        "import time\n",
        "from typing import Optional, Tuple, Union\n",
        "\n",
        "import matplotlib.pyplot as plt\n",
        "import networkx as nx\n",
        "import numpy as np\n",
        "from IPython.display import clear_output, display"
      ],
      "execution_count": 2,
      "outputs": []
    },
    {
      "cell_type": "code",
      "metadata": {
        "id": "KAMcxVsH4C-p"
      },
      "source": [
        "def seed_everything(seed: Optional[int] = None) -> None:\n",
        "    random.seed(seed)\n",
        "    np.random.seed(seed)\n",
        "\n",
        "\n",
        "seed_everything(42)"
      ],
      "execution_count": 3,
      "outputs": []
    },
    {
      "cell_type": "markdown",
      "metadata": {
        "id": "9x7FveYu9bwl"
      },
      "source": [
        "# Random Walk"
      ]
    },
    {
      "cell_type": "code",
      "metadata": {
        "id": "4wABXs7O7FCF"
      },
      "source": [
        "class RandomWalk:\n",
        "    def __init__(\n",
        "        self,\n",
        "        G: nx.Graph,\n",
        "        node_size: int = 1500,\n",
        "        width: int = 2,\n",
        "        font_size: int = 16,\n",
        "        fig_size: Tuple[int, int] = (8, 6),\n",
        "        seed: Optional[int] = 42,\n",
        "    ) -> None:\n",
        "        self.G = G\n",
        "        self.node_size = node_size\n",
        "        self.width = width\n",
        "        self.font_size = font_size\n",
        "        self.fig_size = fig_size\n",
        "        self.seed = seed\n",
        "\n",
        "    def _draw(self, ax: plt.Axes) -> None:\n",
        "        node_colors = [\n",
        "            \"tab:blue\"\n",
        "            if node == self.current_node\n",
        "            else \"tab:orange\"\n",
        "            if node == self.starting_node\n",
        "            else \"tab:gray\"\n",
        "            if node in self.visited_nodes\n",
        "            else \"white\"\n",
        "            for node in self.G.nodes\n",
        "        ]\n",
        "        edge_colors = [\"tab:gray\" if sorted(edge) in self.visited_edges else \"black\" for edge in self.G.edges]\n",
        "        pos = nx.spring_layout(self.G, seed=self.seed)\n",
        "\n",
        "        nx.draw(\n",
        "            self.G,\n",
        "            pos=pos,\n",
        "            ax=ax,\n",
        "            node_color=node_colors,\n",
        "            edgecolors=\"black\",\n",
        "            edge_color=edge_colors,\n",
        "            node_size=self.node_size,\n",
        "            width=self.width,\n",
        "            font_size=self.font_size,\n",
        "            with_labels=True,\n",
        "        )\n",
        "\n",
        "    def run(self, num_steps: int = 5, sleep_seconds: float = 0.5) -> None:\n",
        "        self.starting_node = random.choice(list(self.G.nodes))\n",
        "        self.current_node = self.starting_node\n",
        "        self.visited_nodes = [self.current_node]\n",
        "        self.visited_edges = []\n",
        "        title = f\"Random walk ({num_steps} steps): {self.current_node}\"\n",
        "\n",
        "        fig = plt.gcf()\n",
        "        ax = fig.gca()\n",
        "        self._draw(ax)\n",
        "        plt.title(title, fontsize=self.font_size, loc=\"left\")\n",
        "        display(fig)\n",
        "        clear_output(wait=True)\n",
        "\n",
        "        for _ in range(num_steps):\n",
        "            previous_node = self.current_node\n",
        "            self.current_node = random.choice(list(self.G.neighbors(previous_node)))\n",
        "            self.visited_edges.append(sorted((previous_node, self.current_node)))\n",
        "            self.visited_nodes.append(self.current_node)\n",
        "            title += f\" -> {self.current_node}\"\n",
        "\n",
        "            time.sleep(sleep_seconds)\n",
        "            self._draw(ax)\n",
        "            plt.title(title, fontsize=self.font_size, loc=\"left\")\n",
        "            display(fig)\n",
        "            clear_output(wait=True)"
      ],
      "execution_count": 4,
      "outputs": []
    },
    {
      "cell_type": "code",
      "metadata": {
        "colab": {
          "base_uri": "https://localhost:8080/",
          "height": 375
        },
        "id": "jPEJDCp34M3K",
        "outputId": "d4e75742-8b97-4753-ab26-65910defbb83"
      },
      "source": [
        "edge_list = [\n",
        "    (1, 2),\n",
        "    (1, 3),\n",
        "    (1, 4),\n",
        "    (2, 3),\n",
        "    (2, 8),\n",
        "    (3, 4),\n",
        "    (4, 5),\n",
        "    (5, 6),\n",
        "    (5, 7),\n",
        "    (5, 8),\n",
        "    (6, 7),\n",
        "    (8, 9),\n",
        "    (8, 11),\n",
        "    (9, 10),\n",
        "    (10, 11),\n",
        "    (10, 12),\n",
        "    (11, 12),\n",
        "]\n",
        "G = nx.Graph(edge_list)\n",
        "random_walk = RandomWalk(G)\n",
        "\n",
        "plt.figure(figsize=(8, 6))\n",
        "random_walk.run()\n",
        "plt.show()"
      ],
      "execution_count": 5,
      "outputs": [
        {
          "output_type": "display_data",
          "data": {
            "image/png": "[encoded data removed]",
            "text/plain": [
              "<Figure size 576x432 with 1 Axes>"
            ]
          },
          "metadata": {}
        }
      ]
    },
    {
      "cell_type": "markdown",
      "metadata": {
        "id": "sH7qXUef4qI-"
      },
      "source": [
        "# How should we randomly walk?"
      ]
    },
    {
      "cell_type": "code",
      "metadata": {
        "id": "yQrZcPnFQEmH"
      },
      "source": [
        "from karateclub import Estimator\n",
        "from sklearn.cluster import KMeans"
      ],
      "execution_count": 6,
      "outputs": []
    },
    {
      "cell_type": "code",
      "metadata": {
        "id": "Tlgvh_YuOTAi"
      },
      "source": [
        "def node_embedding_method_example(\n",
        "    G: nx.Graph, model: Estimator, n_clusters: int = 4, node_size: int = 500, font_size=16, seed: Optional[int] = 42\n",
        ") -> None:\n",
        "    model.fit(G.copy())\n",
        "    embeddings = model.get_embedding()\n",
        "    labels = KMeans(n_clusters,random_state=seed).fit_predict(embeddings)\n",
        "\n",
        "    pos = nx.spring_layout(G, seed=seed)\n",
        "    cmap = plt.get_cmap(\"tab10\")\n",
        "    node_colors = [cmap(label) for label in labels]\n",
        "\n",
        "    nx.draw(G, pos=pos, node_color=node_colors, node_size=node_size, with_labels=True)\n",
        "    plt.title(\n",
        "        f\"Colored nodes based on clusters identified by K-Means (K={n_clusters})\\n on embeddings extracted with \"\n",
        "        f\"{type(model).__name__}\",\n",
        "        fontsize=font_size,\n",
        "    )"
      ],
      "execution_count": 7,
      "outputs": []
    },
    {
      "cell_type": "code",
      "metadata": {
        "id": "-rDWjhQXJmnM"
      },
      "source": [
        "G = nx.karate_club_graph()"
      ],
      "execution_count": 8,
      "outputs": []
    },
    {
      "cell_type": "markdown",
      "metadata": {
        "id": "KDZs35Ha5HPn"
      },
      "source": [
        "## DeepWalk"
      ]
    },
    {
      "cell_type": "code",
      "metadata": {
        "id": "8zeuPQJNISNd"
      },
      "source": [
        "from karateclub import DeepWalk"
      ],
      "execution_count": 9,
      "outputs": []
    },
    {
      "cell_type": "code",
      "metadata": {
        "colab": {
          "base_uri": "https://localhost:8080/",
          "height": 354
        },
        "id": "nF2sJlZ6RiOK",
        "outputId": "909779a7-f87a-485b-8ffb-dd9821a8726f"
      },
      "source": [
        "node_embedding_method_example(G, DeepWalk(dimensions=16))"
      ],
      "execution_count": 10,
      "outputs": [
        {
          "output_type": "display_data",
          "data": {
            "image/png": "[encoded data removed]",
            "text/plain": [
              "<Figure size 432x288 with 1 Axes>"
            ]
          },
          "metadata": {}
        }
      ]
    },
    {
      "cell_type": "markdown",
      "metadata": {
        "id": "0TafmLUFEqRb"
      },
      "source": [
        "## Node2Vec"
      ]
    },
    {
      "cell_type": "code",
      "metadata": {
        "id": "-wxIbJtMNpWA"
      },
      "source": [
        "from karateclub import Node2Vec"
      ],
      "execution_count": 11,
      "outputs": []
    },
    {
      "cell_type": "code",
      "metadata": {
        "colab": {
          "base_uri": "https://localhost:8080/",
          "height": 354
        },
        "id": "5xbSjBcMNu2c",
        "outputId": "b1160755-f20f-487e-f4eb-09b8e26c12ec"
      },
      "source": [
        "node_embedding_method_example(G, Node2Vec(dimensions=16))"
      ],
      "execution_count": 12,
      "outputs": [
        {
          "output_type": "display_data",
          "data": {
            "image/png": "[encoded data removed]",
            "text/plain": [
              "<Figure size 432x288 with 1 Axes>"
            ]
          },
          "metadata": {}
        }
      ]
    },
    {
      "cell_type": "markdown",
      "metadata": {
        "id": "V11_c_AVdpPF"
      },
      "source": [
        "# Embedding Entire Graphs"
      ]
    },
    {
      "cell_type": "markdown",
      "metadata": {
        "id": "5ZcjWFH8dbAT"
      },
      "source": [
        "> The following part is an adaptation of a [tutorial](https://karateclub.readthedocs.io/en/latest/notes/introduction.html#graph-embedding) from the [Karate Club](https://karateclub.readthedocs.io/en/latest/index.html#) library"
      ]
    },
    {
      "cell_type": "code",
      "metadata": {
        "id": "jsARVwZ1eFUz"
      },
      "source": [
        "from karateclub.dataset import GraphSetReader\n",
        "from sklearn.linear_model import LogisticRegression\n",
        "from sklearn.metrics import roc_auc_score\n",
        "from sklearn.model_selection import train_test_split\n",
        "from tqdm.notebook import tqdm"
      ],
      "execution_count": 13,
      "outputs": []
    },
    {
      "cell_type": "code",
      "metadata": {
        "id": "1vpgPCV1zm6B"
      },
      "source": [
        "def split_and_fit_logistic_and_print_aoc(\n",
        "    X: np.ndarray, y: np.ndarray, test_size: Union[int, float] = 0.2, seed: Optional[int] = 42\n",
        ") -> None:\n",
        "    print(\"Splitting the data:\")\n",
        "    X_train, X_test, y_train, y_test = train_test_split(X, y, test_size=test_size, random_state=seed)\n",
        "    print(\n",
        "        f\"- X_train shape: {X_train.shape}\\n- X_test shape: {X_test.shape}\"\n",
        "        f\"\\n- y_train shape: {y_train.shape}\\n- y_test shape: {y_test.shape}\"\n",
        "    )\n",
        "\n",
        "    print(\"\\nFitting a logistic regression\")\n",
        "    downstream_model = LogisticRegression(random_state=seed).fit(X_train, y_train)\n",
        "    y_hat = downstream_model.predict_proba(X_test)[:, 1]\n",
        "\n",
        "    auc = roc_auc_score(y_test, y_hat)\n",
        "    print(f\"\\nArea Under the ROC curve (AUC): {auc:.4f}\")"
      ],
      "execution_count": 14,
      "outputs": []
    },
    {
      "cell_type": "code",
      "metadata": {
        "colab": {
          "base_uri": "https://localhost:8080/",
          "height": 265
        },
        "id": "ZMdGCuh6eCyT",
        "outputId": "81fdd62e-1ae0-44a0-9c9e-bc7bcffbe711"
      },
      "source": [
        "# The task is the classification of threads from the online forum Reddit. The threads can be of of two types -\n",
        "# discussion and non-discussion based ones. Our goal is to predict the type of the thread based on the topological\n",
        "# (structural) properties of the graphs. The specific dataset that we look a 10 thousand graph subsample of the Reddit\n",
        "# 204K dataset which contains a large number of threads from the spring of 2018. The graphs in the dataset do not have\n",
        "# a specific feature.\n",
        "\n",
        "reader = GraphSetReader(\"reddit10k\")\n",
        "\n",
        "graphs = reader.get_graphs()[:1000]\n",
        "y = reader.get_target()[:1000]\n",
        "\n",
        "plt.figure(figsize=(4, 3))\n",
        "nx.draw(graphs[0], node_color=\"tab:orange\", node_size=1000, width=2, with_labels=True)\n",
        "plt.title(\"Graph 0 of the reddit10k dataset\", fontsize=16)\n",
        "plt.show()"
      ],
      "execution_count": 15,
      "outputs": [
        {
          "output_type": "display_data",
          "data": {
            "image/png": "[encoded data removed]",
            "text/plain": [
              "<Figure size 288x216 with 1 Axes>"
            ]
          },
          "metadata": {}
        }
      ]
    },
    {
      "cell_type": "markdown",
      "metadata": {
        "id": "oIFS9N6_aSbU"
      },
      "source": [
        "# Approach 1"
      ]
    },
    {
      "cell_type": "code",
      "metadata": {
        "id": "lC7IE6yQfFuY"
      },
      "source": [
        "def get_graph_embedding(G: nx.Graph, model: Estimator) -> np.ndarray:\n",
        "    model.fit(G.copy())\n",
        "    return model.get_embedding().sum(0)"
      ],
      "execution_count": 16,
      "outputs": []
    },
    {
      "cell_type": "code",
      "metadata": {
        "colab": {
          "base_uri": "https://localhost:8080/",
          "height": 223,
          "referenced_widgets": [
            "a299f410d21549a6be2734dfee5c105f",
            "766fa195ad7e4aec982ded7fa20474af",
            "1510a8978f124d7e8540bae138e905cb",
            "754ff4261d9b4ddc8b45ab5c068e1137",
            "78e76f15f3fc43499a244a6df44f842c",
            "d1afb717795c4e0697b772bbc01ed9fa",
            "30f27488e37946a3b1af18a924c4275a",
            "107072f072234b39b55edf0bf9fde0ba",
            "d05dbeb754e74926a103d81d419b56a6",
            "f0575bd9b6fc4d2fa7f4ca138a512089",
            "660a0de75f36459db20c0bfb4afceb54"
          ]
        },
        "id": "BG1ZoPKgfnlG",
        "outputId": "4dbed9c3-e766-418b-b78d-dbacabcab9fe"
      },
      "source": [
        "print('Computing the graph embedding for each graph in the dataset using the \"sum\" approach')\n",
        "X = np.vstack([get_graph_embedding(G, DeepWalk(dimensions=16))for G in tqdm(graphs)])\n",
        "\n",
        "split_and_fit_logistic_and_print_aoc(X, y)"
      ],
      "execution_count": 17,
      "outputs": [
        {
          "output_type": "stream",
          "name": "stdout",
          "text": [
            "Computing the graph embedding for each graph in the dataset using the \"sum\" approach\n"
          ]
        },
        {
          "output_type": "display_data",
          "data": {
            "application/vnd.jupyter.widget-view+json": {
              "model_id": "a299f410d21549a6be2734dfee5c105f",
              "version_minor": 0,
              "version_major": 2
            },
            "text/plain": [
              "  0%|          | 0/1000 [00:00<?, ?it/s]"
            ]
          },
          "metadata": {}
        },
        {
          "output_type": "stream",
          "name": "stdout",
          "text": [
            "Splitting the data:\n",
            "- X_train shape: (800, 16)\n",
            "- X_test shape: (200, 16)\n",
            "- y_train shape: (800,)\n",
            "- y_test shape: (200,)\n",
            "\n",
            "Fitting a logistic regression\n",
            "\n",
            "Area Under the ROC curve (AUC): 0.6500\n"
          ]
        }
      ]
    },
    {
      "cell_type": "markdown",
      "metadata": {
        "id": "n5rHjtl8bc3l"
      },
      "source": [
        "# Approach 2"
      ]
    },
    {
      "cell_type": "code",
      "metadata": {
        "id": "X1055wQ1wJcl"
      },
      "source": [
        "def get_graph_embedding(G: nx.Graph, model: Estimator) -> np.ndarray:\n",
        "    G = G.copy()\n",
        "    nodes = list(G.nodes())\n",
        "    virtual_node = max(nodes) + 1\n",
        "    G.add_node(virtual_node)\n",
        "    G.add_edges_from([(virtual_node, node) for node in nodes])\n",
        "    model.fit(G)\n",
        "    return model.get_embedding()[-1]"
      ],
      "execution_count": 18,
      "outputs": []
    },
    {
      "cell_type": "code",
      "metadata": {
        "id": "Gb9tdNbl4E0G",
        "colab": {
          "base_uri": "https://localhost:8080/",
          "height": 223,
          "referenced_widgets": [
            "714b18f285eb47f585c564c20c972a44",
            "d5c73353126a4f61b33bbebbeeb68667",
            "f332aea11f3d428da81a03874859afda",
            "1b6442afc0544e90b763083fb11df589",
            "ebc51957d75b4e6b98e97f8f6a40cd40",
            "ca9de76aef94432abfff1c706535726e",
            "937b216a3085479c89120636d52977fe",
            "1c62c89a8c0b429198d4410ab063b575",
            "92180c4652c348ccb378a0afe5d3f0ef",
            "888a19aa49984a62859d78485b612804",
            "e3e8e224bbe14fe1a60e113d0ee82590"
          ]
        },
        "outputId": "d967c5a1-2119-473d-b781-d833bd33dc57"
      },
      "source": [
        "print('Computing the graph embedding for each graph in the dataset using the \"virtual node\" approach')\n",
        "X = np.vstack([get_graph_embedding(G, DeepWalk(dimensions=16))for G in tqdm(graphs)])\n",
        "\n",
        "split_and_fit_logistic_and_print_aoc(X, y)"
      ],
      "execution_count": 19,
      "outputs": [
        {
          "output_type": "stream",
          "name": "stdout",
          "text": [
            "Computing the graph embedding for each graph in the dataset using the \"virtual node\" approach\n"
          ]
        },
        {
          "output_type": "display_data",
          "data": {
            "application/vnd.jupyter.widget-view+json": {
              "model_id": "714b18f285eb47f585c564c20c972a44",
              "version_minor": 0,
              "version_major": 2
            },
            "text/plain": [
              "  0%|          | 0/1000 [00:00<?, ?it/s]"
            ]
          },
          "metadata": {}
        },
        {
          "output_type": "stream",
          "name": "stdout",
          "text": [
            "Splitting the data:\n",
            "- X_train shape: (800, 16)\n",
            "- X_test shape: (200, 16)\n",
            "- y_train shape: (800,)\n",
            "- y_test shape: (200,)\n",
            "\n",
            "Fitting a logistic regression\n",
            "\n",
            "Area Under the ROC curve (AUC): 0.7063\n"
          ]
        }
      ]
    },
    {
      "cell_type": "markdown",
      "metadata": {
        "id": "lPzPWxLYbnOC"
      },
      "source": [
        "# Approach 3"
      ]
    },
    {
      "cell_type": "code",
      "metadata": {
        "id": "jLDjaXm_75XZ",
        "colab": {
          "base_uri": "https://localhost:8080/"
        },
        "outputId": "ffe6546f-8f68-4b4f-af94-64823ff33071"
      },
      "source": [
        "!git clone https://github.com/nd7141/AWE.git\n",
        "\n",
        "%cd AWE\n",
        "\n",
        "!git checkout fc4d3c4d180e5793d6cd4ba9235889067039d038\n",
        "\n",
        "from AnonymousWalkKernel import AnonymousWalks\n",
        "\n",
        "%cd ..\n",
        "%rm -rf AWE"
      ],
      "execution_count": 20,
      "outputs": [
        {
          "output_type": "stream",
          "name": "stdout",
          "text": [
            "Cloning into 'AWE'...\n",
            "remote: Enumerating objects: 515, done.\u001b[K\n",
            "remote: Total 515 (delta 0), reused 0 (delta 0), pack-reused 515\u001b[K\n",
            "Receiving objects: 100% (515/515), 2.38 MiB | 7.13 MiB/s, done.\n",
            "Resolving deltas: 100% (338/338), done.\n",
            "/content/AWE\n",
            "Note: checking out 'fc4d3c4d180e5793d6cd4ba9235889067039d038'.\n",
            "\n",
            "You are in 'detached HEAD' state. You can look around, make experimental\n",
            "changes and commit them, and you can discard any commits you make in this\n",
            "state without impacting any branches by performing another checkout.\n",
            "\n",
            "If you want to create a new branch to retain commits you create, you may\n",
            "do so (now or later) by using -b with the checkout command again. Example:\n",
            "\n",
            "  git checkout -b <new-branch-name>\n",
            "\n",
            "HEAD is now at fc4d3c4 Fix setup for FB parameters\n",
            "/content\n"
          ]
        }
      ]
    },
    {
      "cell_type": "code",
      "metadata": {
        "id": "dwGqU3_T_Cf1"
      },
      "source": [
        "def get_graph_embedding(G: nx.Graph, num_steps: int = 3) -> np.ndarray:\n",
        "    embedding = AnonymousWalks(G=G).embed(steps=num_steps, verbose=False)[0]\n",
        "    return np.asarray(embedding)"
      ],
      "execution_count": 21,
      "outputs": []
    },
    {
      "cell_type": "code",
      "metadata": {
        "id": "_vUoUeq98D1L",
        "colab": {
          "base_uri": "https://localhost:8080/",
          "height": 223,
          "referenced_widgets": [
            "d241f43abf6e42ff857282876cba9a13",
            "e43a8c19b92541db944b4038cf0be1ec",
            "144fd16355084045a35118dedb8b4240",
            "2ed2c7b1431d482fbfbcbdb4dde3398e",
            "a572769d28ab41dcba26eec0b294702c",
            "a4fcd00a2048451da328282e00762072",
            "40815a8ef7274863834997555fdece70",
            "7dc9107677c24f31b3b32da32043cf00",
            "0fe492c1bcd344658bcc2166f0d2774b",
            "40159fb4b7764d11b5c4aa50b2fcee03",
            "7537b467bf114abb82fc2fdab7995407"
          ]
        },
        "outputId": "a264ee84-42d7-4a0d-e203-6f48de3a90a1"
      },
      "source": [
        "print('Computing the graph embedding for each graph in the dataset using the \"Anonymous Walk\" approach')\n",
        "X = np.vstack([get_graph_embedding(G)for G in tqdm(graphs)])\n",
        "\n",
        "split_and_fit_logistic_and_print_aoc(X, y)"
      ],
      "execution_count": 22,
      "outputs": [
        {
          "output_type": "stream",
          "name": "stdout",
          "text": [
            "Computing the graph embedding for each graph in the dataset using the \"Anonymous Walk\" approach\n"
          ]
        },
        {
          "output_type": "display_data",
          "data": {
            "application/vnd.jupyter.widget-view+json": {
              "model_id": "d241f43abf6e42ff857282876cba9a13",
              "version_minor": 0,
              "version_major": 2
            },
            "text/plain": [
              "  0%|          | 0/1000 [00:00<?, ?it/s]"
            ]
          },
          "metadata": {}
        },
        {
          "output_type": "stream",
          "name": "stdout",
          "text": [
            "Splitting the data:\n",
            "- X_train shape: (800, 7)\n",
            "- X_test shape: (200, 7)\n",
            "- y_train shape: (800,)\n",
            "- y_test shape: (200,)\n",
            "\n",
            "Fitting a logistic regression\n",
            "\n",
            "Area Under the ROC curve (AUC): 0.7830\n"
          ]
        }
      ]
    }
  ]
}